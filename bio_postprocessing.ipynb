{
 "cells": [
  {
   "cell_type": "code",
   "execution_count": null,
   "id": "20b72888",
   "metadata": {},
   "outputs": [],
   "source": [
    "%load_ext autoreload\n",
    "%autoreload 2\n",
    "\n",
    "from IPython.core.display import HTML\n",
    "from IPython.display import display\n",
    "\n",
    "display(HTML(\"<style>.container { width:100% !important; }</style>\"))\n",
    "\n",
    "\n",
    "from pprint import pprint\n",
    "from tqdm.auto import tqdm\n",
    "\n",
    "import torch\n",
    "from torch.nn import BCEWithLogitsLoss\n",
    "from torch.utils.data import DataLoader\n",
    "\n",
    "from oml.datasets.base import DatasetQueryGallery\n",
    "from oml.metrics.embeddings import EmbeddingMetrics\n",
    "from oml.retrieval.postprocessors.pairwise import PairwiseEmbeddingsPostprocessor\n",
    "from oml.samplers.category_balance import CategoryBalanceSampler\n",
    "from oml.samplers.balance import BalanceSampler\n",
    "from oml import const\n",
    "\n",
    "from source import BioDatasetWithLabels, BioDatasetQueryGallery, SimpleSiamese, SimpleExtractor, PairsSamplerTwoModalities\n"
   ]
  },
  {
   "cell_type": "code",
   "execution_count": null,
   "id": "8695641f",
   "metadata": {},
   "outputs": [],
   "source": [
    "# DATA\n",
    "\n",
    "# I assume that descriptors of both types will have the same size after PCA\n",
    "feat_dim_after_pca = 64\n",
    "\n",
    "# index          0  1  2  3  4  5  6  7\n",
    "labels =        [0, 0, 1, 1, 2, 2, 3, 3]\n",
    "categories =    [0, 0, 0, 0, 1, 1, 1, 1]  # this is a hospital id\n",
    "is_first_type = [1, 0, 1, 0, 1, 0, 1, 0]\n",
    "descriptors =   torch.randn((len(labels), feat_dim_after_pca))\n",
    "\n",
    "labels2category = dict(zip(labels, categories))  # label to hospital id\n"
   ]
  },
  {
   "cell_type": "code",
   "execution_count": null,
   "id": "3f9b4d17",
   "metadata": {},
   "outputs": [],
   "source": [
    "# these extractors were trained on a first stage (for example, as a part of CLIP)\n",
    "extractor1 = SimpleExtractor(in_dim=feat_dim_after_pca, out_dim=18)\n",
    "extractor2 = SimpleExtractor(in_dim=feat_dim_after_pca, out_dim=18)\n",
    "\n",
    "siamese = SimpleSiamese(extractor1=extractor1, extractor2=extractor2).train()\n",
    "optimizer = torch.optim.SGD(siamese.parameters(), lr=1e-2)\n",
    "miner = PairsSamplerTwoModalities(hard=False)  # it will not remember all the pairs since we overfit only on the hard ones\n",
    "criterion = BCEWithLogitsLoss()\n",
    "\n",
    "train_dataset = BioDatasetWithLabels(labels, categories, is_first_type, descriptors)\n",
    "# batch_sampler = CategoryBalanceSampler(train_dataset.get_labels(), label2category=labels2category, n_labels=2, n_instances=2, n_categories=2)\n",
    "batch_sampler = BalanceSampler(train_dataset.get_labels(), n_labels=4, n_instances=2)\n",
    "train_loader = DataLoader(train_dataset, batch_sampler=batch_sampler)\n",
    "\n",
    "n_epochs = 50000\n",
    "\n",
    "for _ in tqdm(range(n_epochs)):\n",
    "    for batch in train_loader:\n",
    "        features_a = batch[const.INPUT_TENSORS_KEY][batch[\"is_first_type\"]]\n",
    "        features_b = batch[const.INPUT_TENSORS_KEY][~batch[\"is_first_type\"]]\n",
    "        labels_a = batch[const.LABELS_KEY][batch[\"is_first_type\"]]\n",
    "        labels_b = batch[const.LABELS_KEY][~batch[\"is_first_type\"]]\n",
    "        \n",
    "        ids1, ids2, is_negative_pair = miner.sample(features_a, features_b, labels_a, labels_b)\n",
    "        probs = siamese(x1=features_a[ids1], x2=features_b[ids2])  # can think about it as distances\n",
    "        loss = criterion(probs, is_negative_pair.float())\n",
    "\n",
    "        loss.backward()\n",
    "        optimizer.step()\n",
    "        optimizer.zero_grad()\n",
    "\n",
    "print(loss)\n"
   ]
  },
  {
   "cell_type": "code",
   "execution_count": null,
   "id": "f96a7d84",
   "metadata": {},
   "outputs": [],
   "source": [
    "# test\n",
    "for j in range(0, 8, 2):\n",
    "    for i in range(1, 9, 2):\n",
    "        assert is_first_type[i] != is_first_type[j]\n",
    "        dist = torch.nn.Sigmoid()(siamese(descriptors[j], descriptors[i]))\n",
    "        if not bool(torch.round(dist)) == (labels[i] != labels[j]):\n",
    "            print(\"broken \", i, j)\n",
    "        \n"
   ]
  },
  {
   "cell_type": "code",
   "execution_count": null,
   "id": "e37ee013",
   "metadata": {
    "scrolled": false
   },
   "outputs": [],
   "source": [
    "siamese.eval()\n",
    "\n",
    "val_dataset = BioDatasetQueryGallery(labels, is_first_type, descriptors)\n",
    "valid_loader = DataLoader(val_dataset, batch_size=4, shuffle=False)\n",
    "\n",
    "postprocessor = PairwiseEmbeddingsPostprocessor(top_n=1000, pairwise_model=siamese, num_workers=0, batch_size=4)\n",
    "calculator = EmbeddingMetrics(\n",
    "    cmc_top_k=(1,5),\n",
    "    postprocessor=postprocessor\n",
    ")\n",
    "calculator.setup(num_samples=len(val_dataset))\n",
    "\n",
    "for batch in valid_loader:\n",
    "    calculator.update_data(data_dict=batch)\n",
    "\n",
    "# Note! I don't apply sigmoid on top of siamese model's output. I will fix it in the next PR soon!!!\n",
    "calculator.compute_metrics();  # Pairwise inference happens here\n"
   ]
  },
  {
   "cell_type": "code",
   "execution_count": null,
   "id": "77fc8830",
   "metadata": {},
   "outputs": [],
   "source": []
  }
 ],
 "metadata": {
  "celltoolbar": "Отсутствует",
  "kernelspec": {
   "display_name": "Python 3 (ipykernel)",
   "language": "python",
   "name": "python3"
  },
  "language_info": {
   "codemirror_mode": {
    "name": "ipython",
    "version": 3
   },
   "file_extension": ".py",
   "mimetype": "text/x-python",
   "name": "python",
   "nbconvert_exporter": "python",
   "pygments_lexer": "ipython3",
   "version": "3.8.13"
  }
 },
 "nbformat": 4,
 "nbformat_minor": 5
}
