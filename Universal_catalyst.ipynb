{
 "cells": [
  {
   "cell_type": "code",
   "execution_count": 1,
   "id": "83986a83-46d6-4878-bf12-77405214ac27",
   "metadata": {},
   "outputs": [],
   "source": [
    "# # uncomment in order to download the dataset\n",
    "# !aws s3 sync s3://openproblems-bio/public/phase2-private-data/match_modality/ ./datasets/ --no-sign-request"
   ]
  },
  {
   "cell_type": "code",
   "execution_count": 2,
   "id": "7e6f986f-fff1-423b-bb2a-0b1cebe24eb2",
   "metadata": {},
   "outputs": [
    {
     "name": "stdout",
     "output_type": "stream",
     "text": [
      "Thu Apr 27 19:51:11 2023       \n",
      "+-----------------------------------------------------------------------------+\n",
      "| NVIDIA-SMI 515.43.04    Driver Version: 515.43.04    CUDA Version: 11.7     |\n",
      "|-------------------------------+----------------------+----------------------+\n",
      "| GPU  Name        Persistence-M| Bus-Id        Disp.A | Volatile Uncorr. ECC |\n",
      "| Fan  Temp  Perf  Pwr:Usage/Cap|         Memory-Usage | GPU-Util  Compute M. |\n",
      "|                               |                      |               MIG M. |\n",
      "|===============================+======================+======================|\n",
      "|   0  Tesla V100-SXM2...  On   | 00000000:15:00.0 Off |                    0 |\n",
      "| N/A   36C    P0    65W / 300W |   1122MiB / 32768MiB |      0%      Default |\n",
      "|                               |                      |                  N/A |\n",
      "+-------------------------------+----------------------+----------------------+\n",
      "|   1  Tesla V100-SXM2...  On   | 00000000:16:00.0 Off |                    0 |\n",
      "| N/A   36C    P0    55W / 300W |  30343MiB / 32768MiB |      0%      Default |\n",
      "|                               |                      |                  N/A |\n",
      "+-------------------------------+----------------------+----------------------+\n",
      "|   2  Tesla V100-SXM2...  On   | 00000000:3A:00.0 Off |                    0 |\n",
      "| N/A   33C    P0    52W / 300W |   8980MiB / 32768MiB |      0%      Default |\n",
      "|                               |                      |                  N/A |\n",
      "+-------------------------------+----------------------+----------------------+\n",
      "|   3  Tesla V100-SXM2...  On   | 00000000:3B:00.0 Off |                    0 |\n",
      "| N/A   35C    P0    55W / 300W |  10048MiB / 32768MiB |      0%      Default |\n",
      "|                               |                      |                  N/A |\n",
      "+-------------------------------+----------------------+----------------------+\n",
      "                                                                               \n",
      "+-----------------------------------------------------------------------------+\n",
      "| Processes:                                                                  |\n",
      "|  GPU   GI   CI        PID   Type   Process name                  GPU Memory |\n",
      "|        ID   ID                                                   Usage      |\n",
      "|=============================================================================|\n",
      "|    0   N/A  N/A    409190      C   ...vs/abdesign/bin/python3.9     1119MiB |\n",
      "|    1   N/A  N/A    855446      C   /usr/bin/python                 30340MiB |\n",
      "|    2   N/A  N/A    444832      C   python                           8977MiB |\n",
      "|    3   N/A  N/A    444832      C   python                          10045MiB |\n",
      "+-----------------------------------------------------------------------------+\n"
     ]
    }
   ],
   "source": [
    "!nvidia-smi"
   ]
  },
  {
   "cell_type": "code",
   "execution_count": 3,
   "id": "1bcbcdc2-c9b2-4405-a791-472f10f3edda",
   "metadata": {},
   "outputs": [],
   "source": [
    "import os\n",
    "os.environ[\"CUDA_DEVICE_ORDER\"]=\"PCI_BUS_ID\"   # see issue #152\n",
    "os.environ[\"CUDA_VISIBLE_DEVICES\"]=\"0\"\n",
    "DEVICE='cuda'"
   ]
  },
  {
   "cell_type": "markdown",
   "id": "71eb801c-eee2-4ef6-b77b-29385f8cbe0e",
   "metadata": {
    "tags": []
   },
   "source": [
    "### Imports"
   ]
  },
  {
   "cell_type": "code",
   "execution_count": 4,
   "id": "a0b3e675-1442-4261-8c58-e46be614e635",
   "metadata": {},
   "outputs": [],
   "source": [
    "import torch\n",
    "import numpy as np\n",
    "import pandas as pd\n",
    "import anndata as ad\n",
    "import matplotlib.pyplot as plt\n",
    "\n",
    "import catalyst\n",
    "import shutil\n",
    "import pickle\n",
    "import optuna\n",
    "\n",
    "import neptune\n",
    "import random\n",
    "\n",
    "from sklearn.model_selection import LeaveOneGroupOut\n",
    "from datetime import datetime\n",
    "from torch import nn\n",
    "import torch.nn.functional as F\n",
    "from catalyst import dl, utils\n",
    "from tqdm.notebook import tqdm\n",
    "\n",
    "from src.data import get_dataloaders, ModalityMatchingDataset\n",
    "from src.models import Modality_CLIP, Encoder, symmetric_npair_loss\n",
    "from src.catalyst_tools import scRNARunner, CustomMetric\n",
    "from src.preprocessing import lsiTransformer"
   ]
  },
  {
   "cell_type": "markdown",
   "id": "9635aa02-db88-48c0-8e97-6b099324ba4b",
   "metadata": {},
   "source": [
    "### Configuration"
   ]
  },
  {
   "cell_type": "code",
   "execution_count": 5,
   "id": "8192c681-80cf-44c0-bc19-2eb49f9686bd",
   "metadata": {},
   "outputs": [],
   "source": [
    "DEFAULT_RANDOM_SEED = 777\n",
    "\n",
    "def seedEverything(seed=DEFAULT_RANDOM_SEED):\n",
    "    torch.manual_seed(seed)\n",
    "    torch.cuda.manual_seed(seed)\n",
    "    torch.backends.cudnn.deterministic = True\n",
    "    torch.backends.cudnn.benchmark = False\n",
    "    random.seed(seed)\n",
    "    os.environ['PYTHONHASHSEED'] = str(seed)\n",
    "    np.random.seed(seed)\n",
    "    \n",
    "seedEverything(DEFAULT_RANDOM_SEED)"
   ]
  },
  {
   "cell_type": "code",
   "execution_count": 6,
   "id": "1c4b16b3-b5f5-49fe-9662-d6631567cb7d",
   "metadata": {},
   "outputs": [],
   "source": [
    "first_modality = 'ADT'\n",
    "assert first_modality in ['ADT', 'ATAC']\n",
    "#second modality is GEX anyway\n",
    "if first_modality == 'ATAC':\n",
    "    import src.config_ATAC2GEX as config\n",
    "else:\n",
    "    import src.config_ADT2GEX as config"
   ]
  },
  {
   "cell_type": "code",
   "execution_count": 7,
   "id": "7e3cd7df-ad5e-46aa-978c-878cb9ac5968",
   "metadata": {},
   "outputs": [],
   "source": [
    "VALIDATION_FOLD = 0\n",
    "TRAIN_CLIP_FROM_SCRATCH = False\n",
    "PRETRAINED_ARTIFACTS_FOLDER = './dumps/ADT2GEX/Feb12_00_53_45/0/'"
   ]
  },
  {
   "cell_type": "code",
   "execution_count": 8,
   "id": "032a75af-cfdf-4e40-ab8c-73a393dbe619",
   "metadata": {},
   "outputs": [],
   "source": [
    "current_time = datetime.now().strftime(\"%b%d_%H_%M_%S\")"
   ]
  },
  {
   "cell_type": "markdown",
   "id": "2a459b34-9ab9-4414-9d8c-bbe6d7eeec44",
   "metadata": {},
   "source": [
    "### Setting up the data"
   ]
  },
  {
   "cell_type": "code",
   "execution_count": 9,
   "id": "89ccf43d-1c44-47c8-ab81-4b9b5c687184",
   "metadata": {},
   "outputs": [],
   "source": [
    "if TRAIN_CLIP_FROM_SCRATCH:\n",
    "    dump_folder = os.path.join(config.MODEL_DUMPS_STORAGE, f'{first_modality}2GEX', current_time)\n",
    "    logger_folder = os.path.join(config.TENSORBOARD_DUMPS_STORAGE, f'{first_modality}2GEX', current_time)\n",
    "    os.makedirs(dump_folder)\n",
    "    shutil.copy2(config.__file__, dump_folder)"
   ]
  },
  {
   "cell_type": "code",
   "execution_count": 10,
   "id": "fc0ec7a0-2674-42aa-b3dc-63f350e00215",
   "metadata": {},
   "outputs": [],
   "source": [
    "adata_first = ad.read_h5ad(config.PATH_FIRST_TRAIN)\n",
    "adata_gex = ad.read_h5ad(config.PATH_GEX_TRAIN)\n",
    "sol_train = ad.read_h5ad(config.PATH_TARGET_TRAIN)\n",
    "adata_gex = adata_gex[sol_train.to_df().values.argmax(1)]"
   ]
  },
  {
   "cell_type": "code",
   "execution_count": 11,
   "id": "ad1c197e-bf51-4d42-a470-b38261598a78",
   "metadata": {},
   "outputs": [],
   "source": [
    "adata_first_test = ad.read_h5ad(config.PATH_FIRST_TEST)\n",
    "adata_gex_test = ad.read_h5ad(config.PATH_GEX_TEST)\n",
    "sol_test = ad.read_h5ad(config.PATH_TARGET_TEST)\n",
    "adata_gex_test = adata_gex_test[sol_test.to_df().values.argmax(1)]"
   ]
  },
  {
   "cell_type": "code",
   "execution_count": 12,
   "id": "189af801",
   "metadata": {},
   "outputs": [
    {
     "data": {
      "text/plain": [
       "9"
      ]
     },
     "execution_count": 12,
     "metadata": {},
     "output_type": "execute_result"
    }
   ],
   "source": [
    "logo = LeaveOneGroupOut()\n",
    "groups = sol_train.obs.batch\n",
    "logo.get_n_splits(adata_gex, groups=groups)"
   ]
  },
  {
   "cell_type": "code",
   "execution_count": 13,
   "id": "6743e130-b1e7-4552-afa6-a5192e30916d",
   "metadata": {},
   "outputs": [],
   "source": [
    "train_index, val_index = list(logo.split(adata_gex, groups=groups))[VALIDATION_FOLD]"
   ]
  },
  {
   "cell_type": "code",
   "execution_count": 14,
   "id": "10eae182-bd9a-4283-99d9-3d93c5b3f075",
   "metadata": {},
   "outputs": [],
   "source": [
    "if TRAIN_CLIP_FROM_SCRATCH:\n",
    "    trial_logger_folder = os.path.join(logger_folder, str(VALIDATION_FOLD))\n",
    "    trial_dump_folder = os.path.join(dump_folder, str(VALIDATION_FOLD))\n",
    "    os.makedirs(trial_dump_folder, exist_ok=True)\n",
    "    \n",
    "    if first_modality == 'ATAC':\n",
    "        lsi_transformer_atac = lsiTransformer(n_components=config.N_LSI_COMPONENTS_FIRST, drop_first=True)\n",
    "        first_modality_train = lsi_transformer_atac.fit_transform(adata_first[train_index])\n",
    "        with open(os.path.join(trial_dump_folder, f'lsi_ATAC_transformer.pickle'), 'wb') as outfile:\n",
    "            pickle.dump(lsi_transformer_atac, outfile)\n",
    "    else:\n",
    "        first_modality_train = adata_first[train_index].to_df()\n",
    "\n",
    "    lsi_transformer_gex = lsiTransformer(n_components=config.N_LSI_COMPONENTS_GEX, drop_first=True)\n",
    "    gex_train = lsi_transformer_gex.fit_transform(adata_gex[train_index])\n",
    "    with open(os.path.join(trial_dump_folder, 'lsi_GEX_transformer.pickle'), 'wb') as outfile:\n",
    "        pickle.dump(lsi_transformer_gex, outfile)\n",
    "else:\n",
    "    if first_modality == 'ATAC':\n",
    "        with open(os.path.join(PRETRAINED_ARTIFACTS_FOLDER, 'lsi_ATAC_transformer.pickle'), 'rb') as f:\n",
    "            lsi_transformer_atac = pickle.load(f)\n",
    "        first_modality_train = lsi_transformer_atac.transform(adata_first[train_index])\n",
    "    else:\n",
    "        first_modality_train = adata_first[train_index].to_df()\n",
    "        \n",
    "    with open(os.path.join(PRETRAINED_ARTIFACTS_FOLDER, 'lsi_GEX_transformer.pickle'), 'rb') as f:\n",
    "        lsi_transformer_gex =  pickle.load(f)\n",
    "        gex_train = lsi_transformer_gex.transform(adata_gex[train_index])"
   ]
  },
  {
   "cell_type": "code",
   "execution_count": 15,
   "id": "d069d9f4",
   "metadata": {},
   "outputs": [],
   "source": [
    "if first_modality == 'ATAC':\n",
    "    first_modality_val = lsi_transformer_atac.transform(adata_first[val_index])\n",
    "    first_modality_test = lsi_transformer_atac.transform(adata_first_test)\n",
    "else:\n",
    "    first_modality_val = adata_first[val_index].to_df()\n",
    "    first_modality_test = adata_first_test.to_df()\n",
    "gex_val =  lsi_transformer_gex.transform(adata_gex[val_index])\n",
    "gex_test =  lsi_transformer_gex.transform(adata_gex_test)"
   ]
  },
  {
   "cell_type": "code",
   "execution_count": 16,
   "id": "959b967f",
   "metadata": {},
   "outputs": [],
   "source": [
    "dataset_train = ModalityMatchingDataset(first_modality_train, gex_train)\n",
    "dataset_val = ModalityMatchingDataset(first_modality_val, gex_val)\n",
    "dataset_test = ModalityMatchingDataset(first_modality_test, gex_test)"
   ]
  },
  {
   "cell_type": "code",
   "execution_count": 102,
   "id": "67c40daf-2bd0-4264-adcf-aa4e11664b5e",
   "metadata": {},
   "outputs": [],
   "source": [
    "dataloader_train = torch.utils.data.DataLoader(dataset_train, config.BATCH_SIZE, shuffle = True, drop_last=True)\n",
    "dataloader_val = torch.utils.data.DataLoader(dataset_val, 2048, shuffle = False)\n",
    "dataloader_test = torch.utils.data.DataLoader(dataset_test, 2048, shuffle = False)"
   ]
  },
  {
   "cell_type": "markdown",
   "id": "f60a7346-b4af-4d47-910c-43d27b59d995",
   "metadata": {},
   "source": [
    "### Instantiating the model"
   ]
  },
  {
   "cell_type": "code",
   "execution_count": 18,
   "id": "16c78832-e5eb-4930-a499-e6c0d51382f3",
   "metadata": {},
   "outputs": [],
   "source": [
    "model = Modality_CLIP(\n",
    "    Encoder=Encoder, \n",
    "    layers_dims = (\n",
    "      config.LAYERS_DIM_FIRST, \n",
    "      config.LAYERS_DIM_GEX\n",
    "    ),\n",
    "    dropout_rates = (\n",
    "      config.DROPOUT_RATES_FIRST, \n",
    "      config.DROPOUT_RATES_GEX\n",
    "    ),\n",
    "    dim_mod1 = 134 if first_modality == 'ADT' else config.N_LSI_COMPONENTS_FIRST,\n",
    "    dim_mod2 = config.N_LSI_COMPONENTS_GEX, \n",
    "    output_dim = config.EMBEDDING_DIM,\n",
    "    T = config.LOG_T,\n",
    "    swap_rate_1 = 0.,\n",
    "    swap_rate_2 = 0.)"
   ]
  },
  {
   "cell_type": "code",
   "execution_count": 19,
   "id": "ef0f0e2f-d4f9-48d4-b177-8c103a2a719a",
   "metadata": {},
   "outputs": [],
   "source": [
    "if TRAIN_CLIP_FROM_SCRATCH:\n",
    "    optimizer = torch.optim.Adam(model.parameters(), config.LR, weight_decay=config.weight_decay)\n",
    "    #scheduler = torch.optim.lr_scheduler.ReduceLROnPlateau(optimizer, factor=0.5, patience=50)\n",
    "\n",
    "    loaders = {\n",
    "        \"train\": dataloader_train,\n",
    "        \"valid\": dataloader_val,\n",
    "    }\n",
    "    runner = scRNARunner(\n",
    ")\n",
    "\n",
    "    # model training\n",
    "    runner.train(\n",
    "        model=model,\n",
    "        optimizer=optimizer,\n",
    "        loaders=loaders,\n",
    "        num_epochs=config.N_EPOCHS,\n",
    "        #scheduler=scheduler,\n",
    "        loggers = {\n",
    "            'tb':catalyst.dl.TensorboardLogger(\n",
    "                logdir=trial_logger_folder\n",
    "            )\n",
    "        },\n",
    "        callbacks=[\n",
    "            #dl.OptimizerCallback(metric_key='loss'),\n",
    "            dl.CheckpointCallback(\n",
    "                logdir = trial_dump_folder,\n",
    "                loader_key='valid',\n",
    "                metric_key='avg_acc',\n",
    "                minimize=False,\n",
    "                #use_runner_logdir=False,\n",
    "                #save_n_best=1\n",
    "            ),\n",
    "            dl.EarlyStoppingCallback(\n",
    "                patience=150,\n",
    "                loader_key='valid',\n",
    "                metric_key='avg_acc',\n",
    "                minimize=False,\n",
    "                min_delta=1e-5),\n",
    "            dl.LoaderMetricCallback(\n",
    "                metric=CustomMetric(),\n",
    "                input_key=['embeddings_first', 'embeddings_second', 'temperature'],\n",
    "                target_key=['embeddings_second']\n",
    "            ),\n",
    "            #dl.SchedulerCallback(loader_key='valid', metric_key='avg_acc'),\n",
    "           # dl.CheckRunCallback(num_batch_steps=1, num_epoch_steps=50)\n",
    "        ],\n",
    "        #valid_metric='loss',\n",
    "        #valid_loader='valid',\n",
    "        verbose=True\n",
    "    )"
   ]
  },
  {
   "cell_type": "markdown",
   "id": "6512586d-c136-408d-9212-f55c05df41ba",
   "metadata": {},
   "source": [
    "### Validation and postprocessing"
   ]
  },
  {
   "cell_type": "code",
   "execution_count": 20,
   "id": "d2228ab1-9a85-43ef-abe0-304d4fe0b2c3",
   "metadata": {},
   "outputs": [
    {
     "name": "stdout",
     "output_type": "stream",
     "text": [
      "loading pretrained model\n"
     ]
    }
   ],
   "source": [
    "if not TRAIN_CLIP_FROM_SCRATCH:\n",
    "    print('loading pretrained model')\n",
    "    model.load_state_dict(torch.load(os.path.join(PRETRAINED_ARTIFACTS_FOLDER, 'model.last.pth')))\n",
    "    model.cuda()"
   ]
  },
  {
   "cell_type": "code",
   "execution_count": 21,
   "id": "2a3765cb-a640-47ce-89c7-345943941636",
   "metadata": {},
   "outputs": [],
   "source": [
    "model.eval()\n",
    "embedding_list_first = []\n",
    "embedding_list_gex = []\n",
    "for batch in dataloader_test:\n",
    "    with torch.no_grad():\n",
    "        features_first = batch['features_first'].cuda()\n",
    "        features_gex = batch['features_second'].cuda()\n",
    "        logits, embeddings_first, embeddings_gex = model(features_first, features_gex)\n",
    "        embedding_list_first.append(embeddings_first)\n",
    "        embedding_list_gex.append(embeddings_gex)"
   ]
  },
  {
   "cell_type": "code",
   "execution_count": 22,
   "id": "7952cd28-0a51-4a1d-98b3-c25b6d2e218d",
   "metadata": {},
   "outputs": [],
   "source": [
    "embeddings_first = torch.cat(embedding_list_first)\n",
    "embeddings_gex = torch.cat(embedding_list_gex)"
   ]
  },
  {
   "cell_type": "code",
   "execution_count": 23,
   "id": "c215cb11-9573-408c-931b-ffd5c8cc4a5a",
   "metadata": {},
   "outputs": [],
   "source": [
    "test_similarities = embeddings_first@embeddings_gex.transpose(1,0)"
   ]
  },
  {
   "cell_type": "code",
   "execution_count": 24,
   "id": "82a6a41a-57b6-4466-a02c-cbcfae77beb5",
   "metadata": {},
   "outputs": [],
   "source": [
    "test_similarities_numpy = test_similarities.cpu().numpy()"
   ]
  },
  {
   "cell_type": "code",
   "execution_count": 25,
   "id": "a2ca11b0-567d-412c-9072-e9fa0ceb9993",
   "metadata": {},
   "outputs": [
    {
     "data": {
      "text/plain": [
       "0.020974379397318464"
      ]
     },
     "execution_count": 25,
     "metadata": {},
     "output_type": "execute_result"
    }
   ],
   "source": [
    "#naive matching - just taking closest one to each query with no regard to mutual exclusivity\n",
    "adjacency_naive = test_similarities_numpy == np.max(test_similarities_numpy, 1, keepdims=True)\n",
    "np.diag(adjacency_naive).mean()"
   ]
  },
  {
   "cell_type": "code",
   "execution_count": 26,
   "id": "22a54a6a-d5e1-4752-8145-22e454aa1e13",
   "metadata": {},
   "outputs": [],
   "source": [
    "#one can see that one 2nd modality candidate can be a best fit for a lot more than 1 candidate in the 1st modality"
   ]
  },
  {
   "cell_type": "code",
   "execution_count": 27,
   "id": "db0f8926-c868-468d-b6ab-ed740aa7d3b2",
   "metadata": {},
   "outputs": [
    {
     "data": {
      "text/plain": [
       "array([ 4,  0,  5, ...,  0,  0, 17])"
      ]
     },
     "execution_count": 27,
     "metadata": {},
     "output_type": "execute_result"
    }
   ],
   "source": [
    "adjacency_naive.sum(0)"
   ]
  },
  {
   "cell_type": "markdown",
   "id": "759c7e88-6d8d-418e-b4db-1583944b3804",
   "metadata": {},
   "source": [
    "#### Advanced matching"
   ]
  },
  {
   "cell_type": "code",
   "execution_count": 28,
   "id": "c3f0d12b-f45b-4137-a88f-3fa553670b1e",
   "metadata": {},
   "outputs": [],
   "source": [
    "%load_ext autoreload\n",
    "%autoreload 2"
   ]
  },
  {
   "cell_type": "code",
   "execution_count": 29,
   "id": "3d360e6b-66e9-4d65-9975-97c057547b8a",
   "metadata": {},
   "outputs": [],
   "source": [
    "from src.postprocessing import get_bipartite_matching_adjacency_matrix, get_OT_adjacency_matrix"
   ]
  },
  {
   "cell_type": "code",
   "execution_count": 30,
   "id": "db351838-7b50-4134-acb7-ca83f6401057",
   "metadata": {},
   "outputs": [],
   "source": [
    "adjacency_bipartite = get_bipartite_matching_adjacency_matrix(test_similarities_numpy)"
   ]
  },
  {
   "cell_type": "code",
   "execution_count": 31,
   "id": "d75849f4-4057-4f2f-afb3-6ccecc1cdd24",
   "metadata": {},
   "outputs": [
    {
     "data": {
      "text/plain": [
       "0.02880658436213992"
      ]
     },
     "execution_count": 31,
     "metadata": {},
     "output_type": "execute_result"
    }
   ],
   "source": [
    "np.diag(adjacency_bipartite).mean()"
   ]
  },
  {
   "cell_type": "code",
   "execution_count": 32,
   "id": "16af5c29-8357-49f1-a46a-e2621bb64bcc",
   "metadata": {},
   "outputs": [],
   "source": [
    "### checking that we've built a mutually exclusive matching"
   ]
  },
  {
   "cell_type": "code",
   "execution_count": 33,
   "id": "2ebc1567-be0a-4df2-8cd2-4ed2f840de0e",
   "metadata": {},
   "outputs": [
    {
     "data": {
      "text/plain": [
       "True"
      ]
     },
     "execution_count": 33,
     "metadata": {},
     "output_type": "execute_result"
    }
   ],
   "source": [
    "np.all(adjacency_bipartite.sum(0)==1.)"
   ]
  },
  {
   "cell_type": "code",
   "execution_count": 35,
   "id": "4121ba2e-69ab-4e54-bddf-a67959197e12",
   "metadata": {},
   "outputs": [],
   "source": [
    "#this gives the matrix which elements sums up to 1 totally, not row-wise or column-wise\n",
    "raw_adjacency_ot = get_OT_adjacency_matrix(model.logit_scale.exp()*test_similarities, entropy_reg=0.01).detach().cpu().numpy()"
   ]
  },
  {
   "cell_type": "code",
   "execution_count": 36,
   "id": "09f82b92-3f86-4a62-8227-1dfb1a2e45ef",
   "metadata": {},
   "outputs": [],
   "source": [
    "hard_adjacency_ot = (raw_adjacency_ot == np.max(raw_adjacency_ot, axis=1, keepdims=True))"
   ]
  },
  {
   "cell_type": "code",
   "execution_count": 37,
   "id": "f672a0dc-9cf1-4380-ab46-2408630c12a3",
   "metadata": {},
   "outputs": [],
   "source": [
    "assert(np.all(hard_adjacency_ot.sum(1)==1.))"
   ]
  },
  {
   "cell_type": "code",
   "execution_count": 38,
   "id": "ed9d0698-add3-444c-ac57-7d7ab831371c",
   "metadata": {},
   "outputs": [
    {
     "data": {
      "text/plain": [
       "0.031527943714323645"
      ]
     },
     "execution_count": 38,
     "metadata": {},
     "output_type": "execute_result"
    }
   ],
   "source": [
    "#the best one so far\n",
    "np.diag(hard_adjacency_ot).mean()"
   ]
  },
  {
   "cell_type": "code",
   "execution_count": 39,
   "id": "50c256cd-c23d-4b7d-8156-2b17d60e0b9e",
   "metadata": {},
   "outputs": [],
   "source": [
    "soft_adjacency_ot = raw_adjacency_ot/raw_adjacency_ot.sum(1,keepdims=True)"
   ]
  },
  {
   "cell_type": "code",
   "execution_count": 40,
   "id": "f34cdd09-d798-41ec-996f-6758495b2454",
   "metadata": {},
   "outputs": [
    {
     "data": {
      "text/plain": [
       "0.017720973"
      ]
     },
     "execution_count": 40,
     "metadata": {},
     "output_type": "execute_result"
    }
   ],
   "source": [
    "#decreasing the entropy_reg making the things better for soft matching but worse for hard\n",
    "np.diag(soft_adjacency_ot).mean()"
   ]
  },
  {
   "cell_type": "code",
   "execution_count": 41,
   "id": "8cca6a38-64e2-4599-a5ae-56e6b835e358",
   "metadata": {},
   "outputs": [
    {
     "data": {
      "text/plain": [
       "<matplotlib.image.AxesImage at 0x7fb7f0c338e0>"
      ]
     },
     "execution_count": 41,
     "metadata": {},
     "output_type": "execute_result"
    },
    {
     "data": {
      "image/png": "[encoded data removed]",
      "text/plain": [
       "<Figure size 640x480 with 1 Axes>"
      ]
     },
     "metadata": {},
     "output_type": "display_data"
    }
   ],
   "source": [
    "plt.imshow(soft_adjacency_ot[:100,:100]>1e-5)"
   ]
  },
  {
   "cell_type": "code",
   "execution_count": 42,
   "id": "de0154a5-cc61-4ff8-ad0f-e1b886665f7d",
   "metadata": {},
   "outputs": [],
   "source": [
    "def zero_out_except_top_k(matrix, k):\n",
    "    # Make a copy of the input matrix\n",
    "    output_matrix = matrix.copy()\n",
    "\n",
    "    # Iterate over the rows of the matrix\n",
    "    for i in range(matrix.shape[0]):\n",
    "        # Get the indices of the k largest elements in this row\n",
    "        top_k_indices = np.argpartition(-matrix[i, :], k)[:k]\n",
    "\n",
    "        # Zero out all elements except the top k\n",
    "        output_matrix[i, np.setdiff1d(np.arange(matrix.shape[1]), top_k_indices)] = 0\n",
    "\n",
    "    return output_matrix"
   ]
  },
  {
   "cell_type": "code",
   "execution_count": 43,
   "id": "df2132e4-309e-4067-92be-247030b8f2c9",
   "metadata": {},
   "outputs": [
    {
     "data": {
      "application/vnd.jupyter.widget-view+json": {
       "model_id": "162746d6f3734f57882b8464154b283c",
       "version_major": 2,
       "version_minor": 0
      },
      "text/plain": [
       "  0%|          | 0/19 [00:00<?, ?it/s]"
      ]
     },
     "metadata": {},
     "output_type": "display_data"
    }
   ],
   "source": [
    "topk_metrics = []\n",
    "for topk in tqdm(range(1,20)):\n",
    "    ot_matrix_postproc = zero_out_except_top_k(soft_adjacency_ot, topk)\n",
    "    ot_matrix_postproc /=  ot_matrix_postproc.sum(1, keepdims=True) \n",
    "    topk_metrics.append(np.diag(ot_matrix_postproc).mean())"
   ]
  },
  {
   "cell_type": "code",
   "execution_count": 44,
   "id": "8797150e-5ab5-4091-8d1e-8486edc37210",
   "metadata": {},
   "outputs": [
    {
     "data": {
      "text/plain": [
       "[<matplotlib.lines.Line2D at 0x7fb7f0b73b50>]"
      ]
     },
     "execution_count": 44,
     "metadata": {},
     "output_type": "execute_result"
    },
    {
     "data": {
      "image/png": "[encoded data removed]",
      "text/plain": [
       "<Figure size 640x480 with 1 Axes>"
      ]
     },
     "metadata": {},
     "output_type": "display_data"
    }
   ],
   "source": [
    "plt.plot(list(range(1,20)), topk_metrics)"
   ]
  },
  {
   "cell_type": "code",
   "execution_count": 45,
   "id": "c9d2f214-6a20-4112-9675-0ca6c89bb926",
   "metadata": {},
   "outputs": [
    {
     "data": {
      "text/plain": [
       "0.031527944"
      ]
     },
     "execution_count": 45,
     "metadata": {},
     "output_type": "execute_result"
    }
   ],
   "source": [
    "topk_metrics[0]"
   ]
  },
  {
   "cell_type": "code",
   "execution_count": 46,
   "id": "69d84524-0960-44a3-8a86-c4de9e68687c",
   "metadata": {},
   "outputs": [],
   "source": [
    "from scipy.stats import rankdata"
   ]
  },
  {
   "cell_type": "code",
   "execution_count": 47,
   "id": "08c31345-e976-4cd6-8857-d7b64a399164",
   "metadata": {},
   "outputs": [],
   "source": [
    "rank_matrix_on_similarities = np.array([rankdata(-row) for row in test_similarities_numpy])"
   ]
  },
  {
   "cell_type": "code",
   "execution_count": 48,
   "id": "ea2843e1-8a97-446a-ab01-e188745f7318",
   "metadata": {},
   "outputs": [],
   "source": [
    "rank_matrix_on_ot_softmatching = np.array([rankdata(-row) for row in soft_adjacency_ot])"
   ]
  },
  {
   "cell_type": "code",
   "execution_count": 49,
   "id": "d4226df1-9273-471f-8093-c476798721c6",
   "metadata": {},
   "outputs": [
    {
     "data": {
      "image/png": "[encoded data removed]",
      "text/plain": [
       "<Figure size 640x480 with 1 Axes>"
      ]
     },
     "metadata": {},
     "output_type": "display_data"
    }
   ],
   "source": [
    "#ot matching yields higher rank of true positives\n",
    "plt.hist(np.diag(rank_matrix_on_similarities),bins=150, alpha=0.4, range=(0,20));\n",
    "plt.hist(np.diag(rank_matrix_on_ot_softmatching),bins=150, alpha=0.4, range=(0,20));"
   ]
  },
  {
   "cell_type": "code",
   "execution_count": 50,
   "id": "9328ba17-0e48-4bb3-b253-950a2b62acff",
   "metadata": {},
   "outputs": [
    {
     "data": {
      "text/plain": [
       "0.22554095313951944"
      ]
     },
     "execution_count": 50,
     "metadata": {},
     "output_type": "execute_result"
    }
   ],
   "source": [
    "#We could reach thic accuracy if we re-rank 20 best candidates perfectly\n",
    "(np.diag(rank_matrix_on_ot_softmatching) < 20).mean()"
   ]
  },
  {
   "cell_type": "code",
   "execution_count": 51,
   "id": "5af2f626-a895-49f2-a697-f63241b4a8d4",
   "metadata": {},
   "outputs": [
    {
     "data": {
      "text/plain": [
       "[<matplotlib.lines.Line2D at 0x7fb8b42bf400>]"
      ]
     },
     "execution_count": 51,
     "metadata": {},
     "output_type": "execute_result"
    },
    {
     "data": {
      "image/png": "[encoded data removed]",
      "text/plain": [
       "<Figure size 640x480 with 1 Axes>"
      ]
     },
     "metadata": {},
     "output_type": "display_data"
    }
   ],
   "source": [
    "#theoretical limit of reranking based on topk\n",
    "plt.plot([(np.diag(rank_matrix_on_ot_softmatching) < i).mean() for i in range(100)])"
   ]
  },
  {
   "cell_type": "markdown",
   "id": "22084130-9940-4186-8c81-28347387c194",
   "metadata": {
    "tags": []
   },
   "source": [
    "### Reranking (custom)"
   ]
  },
  {
   "cell_type": "markdown",
   "id": "89779367-b61a-4518-b327-c0d9ec760078",
   "metadata": {
    "jp-MarkdownHeadingCollapsed": true,
    "tags": []
   },
   "source": [
    "#### Siamese reranking (needs more cleanup)"
   ]
  },
  {
   "cell_type": "code",
   "execution_count": null,
   "id": "929101cf-ae94-40cd-ba1f-dece683177ef",
   "metadata": {},
   "outputs": [],
   "source": [
    "from pprint import pprint\n",
    "\n",
    "import torch\n",
    "from torch.nn import BCEWithLogitsLoss\n",
    "from torch.utils.data import DataLoader\n",
    "\n",
    "from oml.datasets.base import DatasetWithLabels, DatasetQueryGallery\n",
    "from oml.inference.flat import inference_on_dataframe\n",
    "from oml.metrics.embeddings import EmbeddingMetrics\n",
    "from oml.miners.pairs import PairsMiner\n",
    "from oml.models.siamese import ConcatSiamese\n",
    "from oml.models.vit.vit import ViTExtractor\n",
    "from oml.retrieval.postprocessors.pairwise import PairwiseImagesPostprocessor\n",
    "from oml.samplers.balance import BalanceSampler\n",
    "from oml.transforms.images.torchvision.transforms import get_normalisation_resize_torch\n",
    "from oml.utils.download_mock_dataset import download_mock_dataset"
   ]
  },
  {
   "cell_type": "code",
   "execution_count": null,
   "id": "4029b6e4-e1bd-4beb-a4e6-47999892de96",
   "metadata": {},
   "outputs": [],
   "source": [
    "siamese = nn.Sequential(nn.Linear(262,2048),\n",
    "                        nn.ReLU(),\n",
    "                        nn.Linear(2048,1),\n",
    "                       ).cuda()"
   ]
  },
  {
   "cell_type": "code",
   "execution_count": null,
   "id": "38834a55-7cc8-42da-b31d-c813cdc77cf1",
   "metadata": {},
   "outputs": [],
   "source": [
    "# # Let's start with saving embeddings of a pretrained extractor for which we want to build a postprocessor\n",
    "# dataset_root = \"mock_dataset/\"\n",
    "# download_mock_dataset(dataset_root)\n",
    "\n",
    "# extractor = ViTExtractor(\"vits16_dino\", arch=\"vits16\", normalise_features=False)\n",
    "# transform = get_normalisation_resize_torch(im_size=64)\n",
    "\n",
    "# embeddings_train, embeddings_val, df_train, df_val = \\\n",
    "#     inference_on_dataframe(dataset_root, \"df.csv\", extractor=extractor, transforms_extraction=transform)\n",
    "\n",
    "# # We are building Siamese model on top of existing weights and train it to recognize positive/negative pairs\n",
    "# siamese = ConcatSiamese(extractor=extractor, mlp_hidden_dims=[100])\n",
    "optimizer = torch.optim.AdamW(siamese.parameters(), lr=1e-3)\n",
    "# miner = PairsMiner(hard_mining=True)\n",
    "criterion = BCEWithLogitsLoss()"
   ]
  },
  {
   "cell_type": "code",
   "execution_count": null,
   "id": "35309ef1-1388-4fb4-ae69-d38095bdba97",
   "metadata": {},
   "outputs": [],
   "source": [
    "next(iter(dataloader_train))['features_first'].shape"
   ]
  },
  {
   "cell_type": "code",
   "execution_count": null,
   "id": "01ba5b69-517d-40bf-a8ea-a62822118820",
   "metadata": {},
   "outputs": [],
   "source": [
    "# train_dataset = DatasetWithLabels(df=df_train, transform=transform, extra_data={\"embeddings\": embeddings_train})\n",
    "# batch_sampler = BalanceSampler(train_dataset.get_labels(), n_labels=2, n_instances=2)\n",
    "#train_loader = DataLoader(train_dataset, batch_sampler=batch_sampler)\n",
    "for epoch in range(300):\n",
    "    losses = []\n",
    "    siamese.train()\n",
    "    for batch in dataloader_train:\n",
    "        # We sample pairs on which the original model struggled most\n",
    "        # ids1, ids2, is_negative_pair = miner.sample(features=batch[\"embeddings\"], labels=batch[\"labels\"])\n",
    "        # probs = siamese(x1=batch[\"input_tensors\"][ids1], x2=batch[\"input_tensors\"][ids2])\n",
    "        # loss = criterion(probs, is_negative_pair.float())\n",
    "\n",
    "        logits, embs_first, embs_gex = model(batch['features_first'].cuda(), batch['features_second'].cuda())\n",
    "        \n",
    "        n_samples = logits.shape[0]\n",
    "        logits[torch.arange(n_samples).cuda(),torch.arange(n_samples).cuda()] = -torch.inf\n",
    "        hard_indices = torch.argmax(logits, dim=1)\n",
    "        positives = torch.cat([batch['features_first'],\n",
    "                               batch['features_second']],dim=1).cuda()\n",
    "        negatives = torch.cat([batch['features_first'].cuda(), \n",
    "                               batch['features_second'].cuda()[hard_indices]],dim=1)\n",
    "        positive_predictions  = siamese(positives)\n",
    "        negative_predictions = siamese(negatives)\n",
    "        pos_loss = criterion(positive_predictions, torch.zeros((n_samples,1)).cuda())\n",
    "        neg_loss = criterion(negative_predictions, torch.ones((n_samples,1)).cuda())\n",
    "\n",
    "        loss = pos_loss+neg_loss\n",
    "\n",
    "        loss.backward()\n",
    "        losses.append(loss.item())\n",
    "        optimizer.step()\n",
    "        optimizer.zero_grad()\n",
    "    \n",
    "    siamese.eval()\n",
    "    val_losses = []\n",
    "    for batch in dataloader_val:\n",
    "        # We sample pairs on which the original model struggled most\n",
    "        # ids1, ids2, is_negative_pair = miner.sample(features=batch[\"embeddings\"], labels=batch[\"labels\"])\n",
    "        # probs = siamese(x1=batch[\"input_tensors\"][ids1], x2=batch[\"input_tensors\"][ids2])\n",
    "        # loss = criterion(probs, is_negative_pair.float())\n",
    "\n",
    "        logits, embs_first, embs_gex = model(batch['features_first'].cuda(), batch['features_second'].cuda())\n",
    "\n",
    "        n_samples = logits.shape[0]\n",
    "        logits[torch.arange(n_samples).cuda(),torch.arange(n_samples).cuda()] = -torch.inf\n",
    "        hard_indices = torch.argmax(logits, dim=1)\n",
    "        positives = torch.cat([batch['features_first'],\n",
    "                               batch['features_second']],dim=1).cuda()\n",
    "        negatives = torch.cat([batch['features_first'].cuda(), \n",
    "                               batch['features_second'].cuda()[hard_indices]],dim=1)\n",
    "        positive_predictions  = siamese(positives)\n",
    "        negative_predictions = siamese(negatives)\n",
    "        pos_loss = criterion(positive_predictions, torch.zeros((n_samples,1)).cuda())\n",
    "        neg_loss = criterion(negative_predictions, torch.ones((n_samples,1)).cuda())\n",
    "\n",
    "        loss = pos_loss+neg_loss\n",
    "\n",
    "       \n",
    "        val_losses.append(loss.item())\n",
    "    if not epoch%10:\n",
    "        print(f'Train loss: {np.mean(losses)}, val loss: {np.mean(val_losses)}')"
   ]
  },
  {
   "cell_type": "markdown",
   "id": "cc39f34b-ea47-4d6d-aac2-31b4d0b559ec",
   "metadata": {},
   "source": [
    "#### Discriminative reranking"
   ]
  },
  {
   "cell_type": "code",
   "execution_count": 154,
   "id": "425e40ea-7f4f-4c96-bdd3-73d1b4a9a8a3",
   "metadata": {},
   "outputs": [],
   "source": [
    "class LSTMpostprocessor(nn.Module):\n",
    "    def __init__(self):\n",
    "        super(LSTMpostprocessor, self).__init__()\n",
    "        self.lstm = nn.LSTM(268, hidden_size=256, num_layers=2, bidirectional=True)\n",
    "        self.head = nn.Sequential(nn.Linear(512,512), nn.ReLU(), nn.Linear(512,1))\n",
    "    def forward(self, x):\n",
    "        c,h = self.lstm(x)\n",
    "        logits = self.head(c).squeeze()\n",
    "        return logits\n",
    "    \n",
    "class Attnpostprocessor(nn.Module):\n",
    "    def __init__(self):\n",
    "        super(Attnpostprocessor, self).__init__()\n",
    "        self.attn = nn.TransformerEncoderLayer(268, nhead=4, dropout=0.5)\n",
    "        self.head = nn.Sequential(nn.Linear(268,1))\n",
    "    def forward(self, x):\n",
    "        out = self.attn(x)\n",
    "        logits = self.head(out).squeeze()\n",
    "        return logits"
   ]
  },
  {
   "cell_type": "code",
   "execution_count": 163,
   "id": "6e21040a-fcbc-425d-b4b7-40811c383864",
   "metadata": {},
   "outputs": [],
   "source": [
    "sorter = Attnpostprocessor().cuda()\n",
    "optimizer = torch.optim.AdamW(sorter.parameters(), lr=1e-4)"
   ]
  },
  {
   "cell_type": "code",
   "execution_count": 164,
   "id": "9612b59e-80d4-40cb-b47f-2962f08040d4",
   "metadata": {},
   "outputs": [
    {
     "data": {
      "text/plain": [
       "1946753"
      ]
     },
     "execution_count": 164,
     "metadata": {},
     "output_type": "execute_result"
    }
   ],
   "source": [
    "sum(p.numel() for p in model.parameters())"
   ]
  },
  {
   "cell_type": "code",
   "execution_count": 165,
   "id": "293a207c-ec01-4349-be70-3f8d0dcfb099",
   "metadata": {},
   "outputs": [
    {
     "data": {
      "text/plain": [
       "1389753"
      ]
     },
     "execution_count": 165,
     "metadata": {},
     "output_type": "execute_result"
    }
   ],
   "source": [
    "sum(p.numel() for p in sorter.parameters())"
   ]
  },
  {
   "cell_type": "code",
   "execution_count": 166,
   "id": "2eead310-6c34-46b7-bcbd-35c0637c7a77",
   "metadata": {},
   "outputs": [],
   "source": [
    "embedding_list_first = []\n",
    "embedding_list_gex = []\n",
    "for batch in dataloader_val:\n",
    "    with torch.no_grad():\n",
    "        features_first = batch['features_first'].cuda()\n",
    "        features_gex = batch['features_second'].cuda()\n",
    "        logits, embeddings_first, embeddings_gex = model(features_first, features_gex)\n",
    "        embedding_list_first.append(embeddings_first)\n",
    "        embedding_list_gex.append(embeddings_gex)\n",
    "\n",
    "val_distances = torch.exp(model.logit_scale)*torch.cat(embedding_list_first)@torch.cat(embedding_list_gex).transpose(1,0)\n",
    "\n",
    "val_matching_raw = get_OT_adjacency_matrix(val_distances)\n",
    "\n",
    "val_matching_soft = val_matching_raw/val_matching_raw.sum(1, keepdims=True)"
   ]
  },
  {
   "cell_type": "code",
   "execution_count": 167,
   "id": "836dfb0b-452d-44ab-926b-4eb3bf63c445",
   "metadata": {},
   "outputs": [
    {
     "data": {
      "text/plain": [
       "0.048209331929683685"
      ]
     },
     "execution_count": 167,
     "metadata": {},
     "output_type": "execute_result"
    }
   ],
   "source": [
    "#soft matching metric\n",
    "torch.diag(val_matching_soft).mean().item()"
   ]
  },
  {
   "cell_type": "code",
   "execution_count": 168,
   "id": "ec294c75-50aa-473a-8402-d61d46da5c45",
   "metadata": {},
   "outputs": [
    {
     "data": {
      "text/plain": [
       "0.08811692148447037"
      ]
     },
     "execution_count": 168,
     "metadata": {},
     "output_type": "execute_result"
    }
   ],
   "source": [
    "#hard matching metric\n",
    "torch.diag(val_matching_raw == val_matching_raw.max(dim=1, keepdims=True)[0]).float().mean().item()"
   ]
  },
  {
   "cell_type": "code",
   "execution_count": 169,
   "id": "eb0e4cdb-d371-462b-850e-db5adaf90dc4",
   "metadata": {},
   "outputs": [],
   "source": [
    "loss_fn = nn.CrossEntropyLoss()"
   ]
  },
  {
   "cell_type": "code",
   "execution_count": 170,
   "id": "05c0389c-11f6-47b6-afac-c7856d2141d3",
   "metadata": {},
   "outputs": [
    {
     "name": "stdout",
     "output_type": "stream",
     "text": [
      "Epoch 0\n",
      "1.1115876237551372\n",
      "0.05784418433904648\n",
      "Epoch 1\n",
      "1.0968463977177938\n",
      "0.05789191648364067\n",
      "Epoch 2\n",
      "1.0820770223935445\n",
      "0.05784173309803009\n",
      "Epoch 3\n",
      "0.9919199625651042\n",
      "0.057514067739248276\n",
      "Epoch 4\n",
      "0.5304605861504873\n",
      "0.05776321142911911\n",
      "Epoch 5\n",
      "0.3232648142923911\n",
      "0.057594478130340576\n",
      "Epoch 6\n",
      "0.18111750117192665\n",
      "0.057484280318021774\n",
      "Epoch 7\n",
      "0.19213589262217284\n",
      "0.057434894144535065\n",
      "Epoch 8\n",
      "0.1293725848197937\n",
      "0.057591717690229416\n",
      "Epoch 9\n",
      "0.09289826316138108\n",
      "0.05768140032887459\n"
     ]
    }
   ],
   "source": [
    "TOPK=3\n",
    "for epoch in range(10):\n",
    "    losses = []\n",
    "    sorter.train();\n",
    "    for batch in dataloader_train:\n",
    "        logits, embs_first, embs_gex = model(batch['features_first'].cuda(), batch['features_second'].cuda())\n",
    "        #some noise so that we select a bit different hard negatives\n",
    "        logits += torch.randn(*logits.shape, device='cuda')\n",
    "        batch_size = embs_first.shape[0]\n",
    "        #making sure that true positives are picked and they are the first\n",
    "        logits[torch.arange(logits.shape[0]), torch.arange(logits.shape[0])] = torch.inf\n",
    "        maxima, max_indices = torch.topk(logits, TOPK, axis=1)\n",
    "\n",
    "        queries = batch['features_first'].unsqueeze(1).repeat(1,TOPK,1).cuda().detach()\n",
    "        values = batch['features_second'].cuda()[max_indices].detach()\n",
    "        sorter_input = torch.cat([queries, values], axis=2)\n",
    "\n",
    "\n",
    "\n",
    "        optimizer.zero_grad()\n",
    "        sorter_output = sorter(sorter_input)\n",
    "        target = torch.zeros(batch_size, dtype=torch.long).cuda()\n",
    "        loss = loss_fn(sorter_output, target)\n",
    "        losses.append(loss.item())\n",
    "        loss.backward()\n",
    "        optimizer.step()\n",
    "    \n",
    "\n",
    "    sorter.eval()\n",
    "    maxima, max_indices = torch.topk(val_matching_raw, TOPK, axis=1)\n",
    "\n",
    "    queries = torch.Tensor(dataset_val.df_modality1).unsqueeze(1).repeat(1,TOPK,1).cuda().detach()\n",
    "    values = torch.Tensor(dataset_val.df_modality2).cuda()[max_indices].detach()\n",
    "\n",
    "    sorter_input = torch.cat([queries, values], axis=2)\n",
    "    sorter_output = nn.Softmax(dim=1)(sorter(sorter_input))\n",
    "\n",
    "    val_metric_postproc_soft = (sorter_output*(max_indices == torch.arange(max_indices.shape[0])[:,None].cuda())).sum(1).mean().item()\n",
    "    if not epoch%1:\n",
    "        print(f\"Epoch {epoch}\")\n",
    "        print(np.mean(losses))\n",
    "        print(val_metric_postproc_soft)"
   ]
  },
  {
   "cell_type": "code",
   "execution_count": 171,
   "id": "f00b3bc6-92c8-473a-bdc4-707a25a32fc1",
   "metadata": {},
   "outputs": [],
   "source": [
    "adjacency_reranked_val = np.zeros(val_matching_raw.shape)"
   ]
  },
  {
   "cell_type": "code",
   "execution_count": 172,
   "id": "098d8750-00de-49e9-b65c-83acbffdf868",
   "metadata": {},
   "outputs": [],
   "source": [
    "row_indices = np.arange(val_matching_raw.shape[0]).reshape(-1, 1)\n",
    "adjacency_reranked_val[row_indices,max_indices.cpu().numpy()] = sorter_output.detach().cpu().numpy()"
   ]
  },
  {
   "cell_type": "code",
   "execution_count": 176,
   "id": "7f813632-c5e3-4cde-8e4d-7b7eff0a13c3",
   "metadata": {},
   "outputs": [
    {
     "data": {
      "text/plain": [
       "tensor([[0.3238, 0.3213, 0.3550],\n",
       "        [0.3224, 0.3297, 0.3479],\n",
       "        [0.3301, 0.3105, 0.3594],\n",
       "        ...,\n",
       "        [0.3251, 0.3369, 0.3381],\n",
       "        [0.3226, 0.3229, 0.3545],\n",
       "        [0.3143, 0.3149, 0.3708]], device='cuda:0', grad_fn=<SoftmaxBackward0>)"
      ]
     },
     "execution_count": 176,
     "metadata": {},
     "output_type": "execute_result"
    }
   ],
   "source": [
    "sorter_output"
   ]
  },
  {
   "cell_type": "code",
   "execution_count": 173,
   "id": "0d4c5e4a-ade1-4db8-baf6-a0b41d809959",
   "metadata": {},
   "outputs": [
    {
     "data": {
      "text/plain": [
       "Counter({2: 4582, 0: 115, 1: 24})"
      ]
     },
     "execution_count": 173,
     "metadata": {},
     "output_type": "execute_result"
    }
   ],
   "source": [
    "#why?\n",
    "from collections import Counter\n",
    "Counter(sorter_output.argmax(1).cpu().numpy())"
   ]
  },
  {
   "cell_type": "code",
   "execution_count": 174,
   "id": "bee882c0-e10d-4462-8ceb-1fbaf5ce4f7a",
   "metadata": {},
   "outputs": [
    {
     "data": {
      "text/plain": [
       "0.05768140137915236"
      ]
     },
     "execution_count": 174,
     "metadata": {},
     "output_type": "execute_result"
    }
   ],
   "source": [
    "np.diag(adjacency_reranked_val).mean()"
   ]
  },
  {
   "cell_type": "code",
   "execution_count": 175,
   "id": "88cfcc13-4816-4e14-ba1a-cf08f1935e8e",
   "metadata": {},
   "outputs": [
    {
     "data": {
      "text/plain": [
       "0.04299936454141072"
      ]
     },
     "execution_count": 175,
     "metadata": {},
     "output_type": "execute_result"
    }
   ],
   "source": [
    "np.diag(adjacency_reranked_val == np.max(adjacency_reranked_val, 1, keepdims=True)).mean()"
   ]
  },
  {
   "cell_type": "code",
   "execution_count": 89,
   "id": "805fccba-fd04-469b-99f5-0b79f6f39bc4",
   "metadata": {},
   "outputs": [],
   "source": [
    "batch = next(iter(dataloader_train))"
   ]
  },
  {
   "cell_type": "code",
   "execution_count": 90,
   "id": "4a4c8001-e491-45f5-a3c7-d457918c21ad",
   "metadata": {},
   "outputs": [],
   "source": [
    "#batch overfitting test\n",
    "for trial in range(100):\n",
    "    sorter.train()\n",
    "    logits, embs_first, embs_gex = model(batch['features_first'].cuda(), batch['features_second'].cuda())\n",
    "    batch_size = embs_first.shape[0]\n",
    "    logits[torch.arange(logits.shape[0]),torch.arange(logits.shape[0])] = -torch.inf\n",
    "    maxima, max_indices = torch.topk(logits, 9, axis=1)\n",
    "    max_indices = torch.cat([torch.arange(batch_size).unsqueeze(1).cuda(), max_indices], dim=1)\n",
    "\n",
    "    target = torch.zeros(batch_size, dtype=torch.long).cuda()\n",
    "\n",
    "    queries = batch['features_first'].unsqueeze(1).repeat(1,10,1).cuda().detach()\n",
    "    values = batch['features_second'].cuda()[max_indices].detach()\n",
    "    sorter_input = torch.cat([queries, values], axis=2)\n",
    "\n",
    "\n",
    "\n",
    "    optimizer.zero_grad()\n",
    "    sorter_output = sorter(sorter_input)\n",
    "    target = torch.zeros(batch_size, dtype=torch.long).cuda()\n",
    "    loss = loss_fn(sorter_output, target)\n",
    "    losses.append(loss.item())\n",
    "    loss.backward()\n",
    "    optimizer.step()\n",
    "    if not trial%1:\n",
    "        print(loss.item())"
   ]
  },
  {
   "cell_type": "markdown",
   "id": "604eec7d-307d-4712-a715-cd858ca14ed1",
   "metadata": {
    "jp-MarkdownHeadingCollapsed": true,
    "tags": []
   },
   "source": [
    "### Refinement (OML) (don't look here yet too)"
   ]
  },
  {
   "cell_type": "code",
   "execution_count": null,
   "id": "2f6d99f6-11db-4eed-9531-db435495117f",
   "metadata": {},
   "outputs": [],
   "source": [
    "%load_ext autoreload\n",
    "%autoreload 2"
   ]
  },
  {
   "cell_type": "code",
   "execution_count": null,
   "id": "1d48f62a-e96a-4d42-aad8-671edfafec2d",
   "metadata": {},
   "outputs": [],
   "source": [
    "from IPython.core.display import HTML\n",
    "from IPython.display import display\n",
    "\n",
    "display(HTML(\"<style>.container { width:100% !important; }</style>\"))\n",
    "\n",
    "\n",
    "from pprint import pprint\n",
    "from tqdm.auto import tqdm\n",
    "\n",
    "import torch\n",
    "from torch.nn import BCEWithLogitsLoss\n",
    "from torch.utils.data import DataLoader\n",
    "\n",
    "from oml.datasets.base import DatasetQueryGallery\n",
    "from oml.metrics.embeddings import EmbeddingMetrics\n",
    "from oml.retrieval.postprocessors.pairwise import PairwiseEmbeddingsPostprocessor\n",
    "from oml.samplers.category_balance import CategoryBalanceSampler\n",
    "from oml.samplers.balance import BalanceSampler\n",
    "from oml import const\n",
    "\n",
    "from src.refinement import BioDatasetWithLabels, BioDatasetQueryGallery, SimpleSiamese, SimpleExtractor, PairsSamplerTwoModalities"
   ]
  },
  {
   "cell_type": "code",
   "execution_count": null,
   "id": "414499b6-ec65-4e84-87d2-37baa0a40c19",
   "metadata": {},
   "outputs": [],
   "source": [
    "import oml"
   ]
  },
  {
   "cell_type": "code",
   "execution_count": null,
   "id": "29010711-a283-4c26-ae49-20d307044a80",
   "metadata": {},
   "outputs": [],
   "source": [
    "from sklearn.preprocessing import LabelEncoder"
   ]
  },
  {
   "cell_type": "code",
   "execution_count": null,
   "id": "c1f70b8c-9bb1-4d7d-b271-18fb2b66ab06",
   "metadata": {},
   "outputs": [],
   "source": [
    "# DATA\n",
    "\n",
    "# I assume that descriptors of both types will have the same size after PCA\n",
    "feat_dim_after_pca = config.N_LSI_COMPONENTS_GEX\n",
    "hospital_encoder = LabelEncoder()\n",
    "categories_ = hospital_encoder.fit_transform(sol_train.obs.batch[train_index])\n",
    "categories = np.concatenate([categories_, categories_])\n",
    "# index          0  1  2  3  4  5  6  7\n",
    "#labels =        [0, 0, 1, 1, 2, 2, 3, 3]\n",
    "labels = list(range(first_modality_train.shape[0]))*2\n",
    "#categories =    [0, 0, 0, 0, 1, 1, 1, 1]  # this is a hospital id\n",
    "categories_ = hospital_encoder.fit_transform(sol_train.obs.batch[train_index])\n",
    "categories = np.concatenate([categories_, categories_])\n",
    "#is_first_type = [1, 0, 1, 0, 1, 0, 1, 0]\n",
    "is_first_type = np.concatenate([np.ones(first_modality_train.shape[0]),\n",
    "                                np.zeros(first_modality_train.shape[0])])\n",
    "#descriptors =   torch.randn((len(labels), feat_dim_after_pca))\n",
    "descriptors = torch.cat([torch.Tensor(first_modality_train.values), torch.Tensor(gex_train.values)]).cuda()\n",
    "\n",
    "labels2category = dict(zip(labels, categories))  # label to hospital id"
   ]
  },
  {
   "cell_type": "code",
   "execution_count": null,
   "id": "dddaf212-c372-4b83-bd56-6de9477d9abe",
   "metadata": {},
   "outputs": [],
   "source": [
    "from copy import deepcopy"
   ]
  },
  {
   "cell_type": "code",
   "execution_count": null,
   "id": "831ba708-b877-4bd9-9eb7-4dae4375dfd5",
   "metadata": {},
   "outputs": [],
   "source": [
    "#extractor1 = SimpleExtractor(in_dim=feat_dim_after_pca, out_dim=config.EMBEDDING_DIM)\n",
    "#extractor2 = SimpleExtractor(in_dim=feat_dim_after_pca, out_dim=18)\n",
    "extractor1 = deepcopy(model.encoder_modality1)\n",
    "extractor2 = deepcopy(model.encoder_modality2)\n",
    "\n",
    "siamese = SimpleSiamese(extractor1=extractor1, extractor2=extractor2).train().cuda()\n",
    "optimizer = torch.optim.AdamW(siamese.parameters(), lr=1e-4)\n",
    "miner = PairsSamplerTwoModalities(hard=False)  # it will not remember all the pairs since we overfit only on the hard ones\n",
    "criterion = BCEWithLogitsLoss()\n",
    "\n",
    "train_dataset = BioDatasetWithLabels(labels, categories, is_first_type, descriptors)\n",
    "# batch_sampler = CategoryBalanceSampler(train_dataset.get_labels(), label2category=labels2category, n_labels=2, n_instances=2, n_categories=2)\n",
    "batch_sampler = BalanceSampler(train_dataset.get_labels(), n_labels=4, n_instances=16)\n",
    "train_loader = DataLoader(train_dataset, batch_sampler=batch_sampler)"
   ]
  },
  {
   "cell_type": "code",
   "execution_count": null,
   "id": "5df05133-589d-4944-aacd-d6c1cc6291cc",
   "metadata": {},
   "outputs": [],
   "source": [
    "batch = next(iter(train_loader))"
   ]
  },
  {
   "cell_type": "code",
   "execution_count": null,
   "id": "87634d21-5fcf-4d1a-9eb0-c3c6abb6f282",
   "metadata": {},
   "outputs": [],
   "source": [
    "features_a = batch[const.INPUT_TENSORS_KEY][batch[\"is_first_type\"]]\n",
    "features_b = batch[const.INPUT_TENSORS_KEY][~batch[\"is_first_type\"]]\n",
    "labels_a = batch[const.LABELS_KEY][batch[\"is_first_type\"]]\n",
    "labels_b = batch[const.LABELS_KEY][~batch[\"is_first_type\"]]\n",
    "\n",
    "ids1, ids2, is_negative_pair = miner.sample(features_a, features_b, labels_a, labels_b)"
   ]
  },
  {
   "cell_type": "code",
   "execution_count": null,
   "id": "ad5aaec8-381c-485c-bbd2-d0f60ab470ff",
   "metadata": {},
   "outputs": [],
   "source": [
    "#n_epochs = 50000\n",
    "n_epochs = 5\n",
    "\n",
    "for _ in tqdm(range(n_epochs), position=0):\n",
    "    for batch in tqdm(train_loader, leave=False, position=1):\n",
    "        features_a = batch[const.INPUT_TENSORS_KEY][batch[\"is_first_type\"]]\n",
    "        features_b = batch[const.INPUT_TENSORS_KEY][~batch[\"is_first_type\"]]\n",
    "        labels_a = batch[const.LABELS_KEY][batch[\"is_first_type\"]]\n",
    "        labels_b = batch[const.LABELS_KEY][~batch[\"is_first_type\"]]\n",
    "        \n",
    "        ids1, ids2, is_negative_pair = miner.sample(features_a, features_b, labels_a, labels_b)\n",
    "        probs = siamese(x1=features_a[ids1], x2=features_b[ids2])  # can think about it as distances\n",
    "        loss = criterion(probs, is_negative_pair.float().cuda())\n",
    "\n",
    "        loss.backward()\n",
    "        optimizer.step()\n",
    "        optimizer.zero_grad()\n",
    "\n",
    "    print(loss.item())"
   ]
  },
  {
   "cell_type": "code",
   "execution_count": null,
   "id": "8c5ca610-1384-46b5-9c3e-db69ea274261",
   "metadata": {},
   "outputs": [],
   "source": [
    "#torch.save(siamese.state_dict, 'siamese.pickle')"
   ]
  },
  {
   "cell_type": "markdown",
   "id": "2bad4553-071d-496a-9f1a-36929d8b7f6e",
   "metadata": {},
   "source": [
    "### Custom eval"
   ]
  },
  {
   "cell_type": "code",
   "execution_count": null,
   "id": "b0919605-bc3b-4143-8a90-0eb7423d955d",
   "metadata": {},
   "outputs": [],
   "source": [
    "siamese.eval();"
   ]
  },
  {
   "cell_type": "code",
   "execution_count": null,
   "id": "88536aed-5e7f-491f-82d0-ab142874c6b0",
   "metadata": {},
   "outputs": [],
   "source": [
    "postproc_matrix  = torch.zeros(test_distances_numpy.shape)"
   ]
  },
  {
   "cell_type": "code",
   "execution_count": null,
   "id": "7ea8d26a-1983-40d1-a705-285c3b1bf48d",
   "metadata": {},
   "outputs": [],
   "source": [
    "plt.hist((adj_matrix_ot_norm>1e-3).sum(1), bins=50);"
   ]
  },
  {
   "cell_type": "code",
   "execution_count": null,
   "id": "20358cb3-3672-42e1-ae17-81fe4f071107",
   "metadata": {},
   "outputs": [],
   "source": [
    "ind_first, ind_gex = np.where((adj_matrix_ot_norm>1e-2))"
   ]
  },
  {
   "cell_type": "code",
   "execution_count": null,
   "id": "c3729a24-1384-4cfa-8554-e3ab9e5d570c",
   "metadata": {},
   "outputs": [],
   "source": [
    "feat_first = torch.Tensor(first_modality_test.values).cuda()\n",
    "feat_gex = torch.Tensor(gex_test.values).cuda()"
   ]
  },
  {
   "cell_type": "code",
   "execution_count": null,
   "id": "1818194c-dfc0-4a76-93e9-3e074fd30a53",
   "metadata": {},
   "outputs": [],
   "source": [
    "index_dataset = torch.utils.data.TensorDataset(torch.LongTensor(ind_first), torch.LongTensor(ind_gex))"
   ]
  },
  {
   "cell_type": "code",
   "execution_count": null,
   "id": "9ff06fbc-ed72-4313-9455-bb0e5848ef26",
   "metadata": {},
   "outputs": [],
   "source": [
    "for ind1, ind2 in tqdm(torch.utils.data.DataLoader(index_dataset, batch_size=2048)):\n",
    "    x1 = feat_first[ind1]\n",
    "    x2 = feat_gex[ind2]\n",
    "    ans = torch.sigmoid(siamese(x1, x2)).detach().cpu()\n",
    "    postproc_matrix[ind1, ind2] = ans"
   ]
  },
  {
   "cell_type": "code",
   "execution_count": null,
   "id": "c01fcf59-1f97-4a24-8988-c1de58a81a5e",
   "metadata": {},
   "outputs": [],
   "source": [
    "postproc_matrix = postproc_matrix.cpu().numpy()"
   ]
  },
  {
   "cell_type": "code",
   "execution_count": null,
   "id": "e5edb6db-da26-4938-99bd-ccf23ccabccc",
   "metadata": {},
   "outputs": [],
   "source": [
    "postproc_matrix.sum(1)"
   ]
  },
  {
   "cell_type": "code",
   "execution_count": null,
   "id": "95c31353-a897-4e9a-ad15-6671bca48055",
   "metadata": {},
   "outputs": [],
   "source": [
    "postproc_matrix /= (postproc_matrix.sum(1, keepdims=True)+1e-12)"
   ]
  },
  {
   "cell_type": "code",
   "execution_count": null,
   "id": "2e02882a-d6b2-482d-834d-e2f30233366f",
   "metadata": {},
   "outputs": [],
   "source": [
    "np.diag(postproc_matrix == postproc_matrix.max(1,keepdims=True)).mean()"
   ]
  },
  {
   "cell_type": "code",
   "execution_count": null,
   "id": "e59a9844-edb3-4a86-80b5-dc750083f88f",
   "metadata": {},
   "outputs": [],
   "source": [
    "from collections import Counter"
   ]
  },
  {
   "cell_type": "code",
   "execution_count": null,
   "id": "004e95b9-15ac-4e2e-bc43-f9008a7b34fc",
   "metadata": {},
   "outputs": [],
   "source": [
    "np.diag(adj_matrix_ot_norm).mean()"
   ]
  },
  {
   "cell_type": "code",
   "execution_count": null,
   "id": "5dffe40f-da63-4a55-9ef7-7c61f450da94",
   "metadata": {},
   "outputs": [],
   "source": [
    "np.diag(postproc_matrix).mean()"
   ]
  },
  {
   "cell_type": "code",
   "execution_count": null,
   "id": "5a93d2c6-0eee-4d6d-bd7f-00a827e182d6",
   "metadata": {},
   "outputs": [],
   "source": [
    "tmp = OT_matching(postproc_matrix, entropy_reg=0.1)"
   ]
  },
  {
   "cell_type": "code",
   "execution_count": null,
   "id": "28b29be4-789b-45e3-bec0-b50a98f784ee",
   "metadata": {},
   "outputs": [],
   "source": [
    "tmp/=tmp.sum(1,keepdims=True)"
   ]
  },
  {
   "cell_type": "code",
   "execution_count": null,
   "id": "00ce2b84-8290-4b93-a5cd-6eccf1968151",
   "metadata": {},
   "outputs": [],
   "source": [
    "np.diag(tmp).mean()"
   ]
  },
  {
   "cell_type": "markdown",
   "id": "53e19b70-ddc7-4188-acac-3785f8d17a4b",
   "metadata": {},
   "source": [
    "### OML eval"
   ]
  },
  {
   "cell_type": "code",
   "execution_count": null,
   "id": "84ad89a7-f22e-4b72-8dd1-bef69d59d809",
   "metadata": {},
   "outputs": [],
   "source": [
    "descriptors_test = torch.cat([torch.Tensor(first_modality_test.values),torch.Tensor(gex_test.values)])\n",
    "is_first_test = np.concatenate([np.ones(gex_test.shape[0]), np.zeros(gex_test.shape[0])])\n",
    "labels_test = list(range(gex_test.shape[0]))*2"
   ]
  },
  {
   "cell_type": "code",
   "execution_count": null,
   "id": "87c4b308-abb6-46e8-b2e0-a1007f66051f",
   "metadata": {},
   "outputs": [],
   "source": [
    "fir"
   ]
  },
  {
   "cell_type": "code",
   "execution_count": null,
   "id": "58a25248-3aec-488e-8467-3bd694f7df40",
   "metadata": {},
   "outputs": [],
   "source": [
    "# %debug\n",
    "siamese.eval()\n",
    "\n",
    "val_dataset = BioDatasetQueryGallery(labels_test, is_first_test, descriptors_test)\n",
    "valid_loader = DataLoader(val_dataset, batch_size=128, shuffle=False)\n",
    "\n",
    "postprocessor = PairwiseEmbeddingsPostprocessor(top_n=1000, pairwise_model=siamese, num_workers=0, batch_size=64)\n",
    "calculator = EmbeddingMetrics(\n",
    "    cmc_top_k=(1,5),\n",
    "    postprocessor=postprocessor\n",
    ")\n",
    "calculator.setup(num_samples=len(val_dataset))\n",
    "\n",
    "for batch in valid_loader:\n",
    "    calculator.update_data(data_dict=batch)\n",
    "\n",
    "# Note! I don't apply sigmoid on top of siamese model's output. I will fix it in the next PR soon!!!\n",
    "calculator.compute_metrics();  # Pairwise inference happens here"
   ]
  },
  {
   "cell_type": "code",
   "execution_count": null,
   "id": "a65b4014-1d8a-49e9-804d-7992d9a35192",
   "metadata": {},
   "outputs": [],
   "source": [
    "postprocessed_matrix = calculator.distance_matrix.clone()"
   ]
  },
  {
   "cell_type": "code",
   "execution_count": null,
   "id": "3a53af98-ae39-49e0-a51f-10b76825c576",
   "metadata": {},
   "outputs": [],
   "source": [
    "adj_matrix_postproc = get_bipartite_matching_adjacency_matrix_mk3(postprocessed_matrix.cpu().numpy(),\n",
    "                                                                  threshold_quantile=0.900)"
   ]
  },
  {
   "cell_type": "code",
   "execution_count": null,
   "id": "98272721-8c58-44ce-97c5-842c25f0e793",
   "metadata": {},
   "outputs": [],
   "source": [
    "adj_matrix_ot_postproc = OT_matching(postprocessed_matrix.cuda()).cpu().numpy()"
   ]
  },
  {
   "cell_type": "code",
   "execution_count": null,
   "id": "d97b23da-2f3e-4ff3-a536-f65cc8bbee5d",
   "metadata": {},
   "outputs": [],
   "source": [
    "adj_matrix_ot_postproc_norm = adj_matrix_ot_postproc/adj_matrix_ot_postproc.sum(1, keepdims=True)"
   ]
  },
  {
   "cell_type": "code",
   "execution_count": null,
   "id": "0f9b9365-7033-4e8e-aaa5-b2d6a6df7181",
   "metadata": {},
   "outputs": [],
   "source": [
    "np.diag(adj_matrix_ot_postproc_norm).mean()"
   ]
  },
  {
   "cell_type": "code",
   "execution_count": null,
   "id": "9400e42d-4426-45e9-bc85-ebcedc0127ab",
   "metadata": {},
   "outputs": [],
   "source": [
    "plt.imshow(adj_matrix_ot_norm)"
   ]
  }
 ],
 "metadata": {
  "kernelspec": {
   "display_name": "oml",
   "language": "python",
   "name": "oml"
  },
  "language_info": {
   "codemirror_mode": {
    "name": "ipython",
    "version": 3
   },
   "file_extension": ".py",
   "mimetype": "text/x-python",
   "name": "python",
   "nbconvert_exporter": "python",
   "pygments_lexer": "ipython3",
   "version": "3.10.9"
  }
 },
 "nbformat": 4,
 "nbformat_minor": 5
}
