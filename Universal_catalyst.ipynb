{
 "cells": [
  {
   "cell_type": "code",
   "execution_count": 1,
   "id": "83986a83-46d6-4878-bf12-77405214ac27",
   "metadata": {},
   "outputs": [],
   "source": [
    "# # uncomment in order to download \n",
    "# !aws s3 sync s3://openproblems-bio/public/phase2-private-data/match_modality/ ./datasets/ --no-sign-request"
   ]
  },
  {
   "cell_type": "code",
   "execution_count": 2,
   "id": "7e6f986f-fff1-423b-bb2a-0b1cebe24eb2",
   "metadata": {},
   "outputs": [
    {
     "name": "stdout",
     "output_type": "stream",
     "text": [
      "Wed Mar 15 22:05:03 2023       \n",
      "+-----------------------------------------------------------------------------+\n",
      "| NVIDIA-SMI 515.43.04    Driver Version: 515.43.04    CUDA Version: 11.7     |\n",
      "|-------------------------------+----------------------+----------------------+\n",
      "| GPU  Name        Persistence-M| Bus-Id        Disp.A | Volatile Uncorr. ECC |\n",
      "| Fan  Temp  Perf  Pwr:Usage/Cap|         Memory-Usage | GPU-Util  Compute M. |\n",
      "|                               |                      |               MIG M. |\n",
      "|===============================+======================+======================|\n",
      "|   0  Tesla V100-SXM2...  On   | 00000000:15:00.0 Off |                    0 |\n",
      "| N/A   31C    P0    54W / 300W |   1742MiB / 32768MiB |      0%      Default |\n",
      "|                               |                      |                  N/A |\n",
      "+-------------------------------+----------------------+----------------------+\n",
      "|   1  Tesla V100-SXM2...  On   | 00000000:16:00.0 Off |                    0 |\n",
      "| N/A   54C    P0   310W / 300W |  16390MiB / 32768MiB |    100%      Default |\n",
      "|                               |                      |                  N/A |\n",
      "+-------------------------------+----------------------+----------------------+\n",
      "|   2  Tesla V100-SXM2...  On   | 00000000:3A:00.0 Off |                    0 |\n",
      "| N/A   47C    P0   161W / 300W |  16390MiB / 32768MiB |    100%      Default |\n",
      "|                               |                      |                  N/A |\n",
      "+-------------------------------+----------------------+----------------------+\n",
      "|   3  Tesla V100-SXM2...  On   | 00000000:3B:00.0 Off |                    0 |\n",
      "| N/A   35C    P0    56W / 300W |    472MiB / 32768MiB |      0%      Default |\n",
      "|                               |                      |                  N/A |\n",
      "+-------------------------------+----------------------+----------------------+\n",
      "                                                                               \n",
      "+-----------------------------------------------------------------------------+\n",
      "| Processes:                                                                  |\n",
      "|  GPU   GI   CI        PID   Type   Process name                  GPU Memory |\n",
      "|        ID   ID                                                   Usage      |\n",
      "|=============================================================================|\n",
      "|    0   N/A  N/A   1512690      C   ...3/envs/mdtools/bin/python     1027MiB |\n",
      "|    0   N/A  N/A   2837644      C   ...3/envs/mdtools/bin/python      710MiB |\n",
      "|    1   N/A  N/A   4042585      C   ...q-enhancement/bin/python3    16387MiB |\n",
      "|    2   N/A  N/A   4042586      C   ...q-enhancement/bin/python3    16387MiB |\n",
      "|    3   N/A  N/A   2997164      C   ...aq-enhancement/bin/python      469MiB |\n",
      "+-----------------------------------------------------------------------------+\n"
     ]
    }
   ],
   "source": [
    "!nvidia-smi"
   ]
  },
  {
   "cell_type": "code",
   "execution_count": 3,
   "id": "863bf814-edc7-490f-be64-9e74622be824",
   "metadata": {},
   "outputs": [],
   "source": [
    "import os\n",
    "os.environ[\"CUDA_DEVICE_ORDER\"]=\"PCI_BUS_ID\"   # see issue #152\n",
    "os.environ[\"CUDA_VISIBLE_DEVICES\"]=\"3\"\n",
    "DEVICE='cuda'"
   ]
  },
  {
   "cell_type": "code",
   "execution_count": 4,
   "id": "0265b41f-f68c-4c72-9769-1ae9259a2199",
   "metadata": {},
   "outputs": [],
   "source": [
    "fold_number=0 #which group is to use as a valid fold\n",
    "train_from_scratch = False #use already obtained model for postproc or get the new one"
   ]
  },
  {
   "cell_type": "code",
   "execution_count": 5,
   "id": "1bf4b6c9",
   "metadata": {},
   "outputs": [],
   "source": [
    "import numpy as np\n",
    "import anndata as ad\n",
    "import torch\n",
    "import neptune\n",
    "import pandas as pd\n",
    "import shutil\n",
    "import pickle\n",
    "import optuna\n",
    "import matplotlib.pyplot as plt\n",
    "import torch.nn.functional as F\n",
    "\n",
    "\n",
    "\n",
    "from datetime import datetime\n",
    "from torch import nn\n",
    "from sklearn.model_selection import LeaveOneGroupOut\n",
    "from tqdm.notebook import tqdm\n",
    "\n",
    "from src.data import get_dataloaders, ModalityMatchingDataset\n",
    "from src.models import Modality_CLIP, Encoder, symmetric_npair_loss\n",
    "from src.catalyst_tools import scRNARunner, CustomMetric"
   ]
  },
  {
   "cell_type": "code",
   "execution_count": 6,
   "id": "ba9f51f1",
   "metadata": {},
   "outputs": [],
   "source": [
    "first_modality = 'ADT'\n",
    "assert first_modality in ['ADT', 'ATAC']\n",
    "#second modality is GEX anyway\n",
    "if first_modality == 'ATAC':\n",
    "    import src.config_ATAC2GEX as config\n",
    "else:\n",
    "    import src.config_ADT2GEX as config"
   ]
  },
  {
   "cell_type": "code",
   "execution_count": 7,
   "id": "21733279",
   "metadata": {},
   "outputs": [],
   "source": [
    "from src.preprocessing import lsiTransformer"
   ]
  },
  {
   "cell_type": "code",
   "execution_count": 8,
   "id": "61e50f16",
   "metadata": {},
   "outputs": [],
   "source": [
    "from catalyst import dl, utils\n",
    "import catalyst"
   ]
  },
  {
   "cell_type": "code",
   "execution_count": 9,
   "id": "e5296c7f",
   "metadata": {},
   "outputs": [],
   "source": [
    "current_time = datetime.now().strftime(\"%b%d_%H_%M_%S\")"
   ]
  },
  {
   "cell_type": "code",
   "execution_count": 10,
   "id": "efddfaf8",
   "metadata": {},
   "outputs": [
    {
     "data": {
      "text/plain": [
       "'/storage1/nerusskikh/OML/dumps/ADT2GEX/Mar15_22_05_07/config_ADT2GEX.py'"
      ]
     },
     "execution_count": 10,
     "metadata": {},
     "output_type": "execute_result"
    }
   ],
   "source": [
    "dump_folder = os.path.join(config.MODEL_DUMPS_STORAGE, f'{first_modality}2GEX', current_time)\n",
    "logger_folder = os.path.join(config.TENSORBOARD_DUMPS_STORAGE, f'{first_modality}2GEX', current_time)\n",
    "os.makedirs(dump_folder)\n",
    "shutil.copy2(config.__file__, dump_folder)"
   ]
  },
  {
   "cell_type": "code",
   "execution_count": 11,
   "id": "fc0ec7a0-2674-42aa-b3dc-63f350e00215",
   "metadata": {},
   "outputs": [],
   "source": [
    "adata_first = ad.read_h5ad(config.PATH_FIRST_TRAIN)\n",
    "adata_gex = ad.read_h5ad(config.PATH_GEX_TRAIN)\n",
    "sol_train = ad.read_h5ad(config.PATH_TARGET_TRAIN)\n",
    "adata_gex = adata_gex[sol_train.to_df().values.argmax(1)]"
   ]
  },
  {
   "cell_type": "code",
   "execution_count": 12,
   "id": "ad1c197e-bf51-4d42-a470-b38261598a78",
   "metadata": {},
   "outputs": [],
   "source": [
    "adata_first_test = ad.read_h5ad(config.PATH_FIRST_TEST)\n",
    "adata_gex_test = ad.read_h5ad(config.PATH_GEX_TEST)\n",
    "sol_test = ad.read_h5ad(config.PATH_TARGET_TEST)\n",
    "adata_gex_test = adata_gex_test[sol_test.to_df().values.argmax(1)]"
   ]
  },
  {
   "cell_type": "code",
   "execution_count": 13,
   "id": "189af801",
   "metadata": {},
   "outputs": [
    {
     "data": {
      "text/plain": [
       "9"
      ]
     },
     "execution_count": 13,
     "metadata": {},
     "output_type": "execute_result"
    }
   ],
   "source": [
    "logo = LeaveOneGroupOut()\n",
    "groups = sol_train.obs.batch\n",
    "logo.get_n_splits(adata_gex, groups=groups)"
   ]
  },
  {
   "cell_type": "code",
   "execution_count": 14,
   "id": "6743e130-b1e7-4552-afa6-a5192e30916d",
   "metadata": {},
   "outputs": [],
   "source": [
    "train_index, val_index = list(logo.split(adata_gex, groups=groups))[fold_number]"
   ]
  },
  {
   "cell_type": "code",
   "execution_count": 15,
   "id": "a5847f16",
   "metadata": {},
   "outputs": [],
   "source": [
    "trial_logger_folder = os.path.join(logger_folder, str(fold_number))\n",
    "trial_dump_folder = os.path.join(dump_folder, str(fold_number))\n",
    "os.makedirs(trial_dump_folder, exist_ok=True)"
   ]
  },
  {
   "cell_type": "code",
   "execution_count": 16,
   "id": "1035c231",
   "metadata": {},
   "outputs": [],
   "source": [
    "if first_modality == 'ATAC':\n",
    "    lsi_transformer_atac = lsiTransformer(n_components=config.N_LSI_COMPONENTS_FIRST, drop_first=True)\n",
    "    first_modality_train = lsi_transformer_atac.fit_transform(adata_first[train_index])\n",
    "    with open(os.path.join(trial_dump_folder, f'lsi_ATAC_transformer.pickle'), 'wb') as outfile:\n",
    "        pickle.dump(lsi_transformer_atac, outfile)\n",
    "else:\n",
    "    first_modality_train = adata_first[train_index].to_df()\n",
    "\n",
    "lsi_transformer_gex = lsiTransformer(n_components=config.N_LSI_COMPONENTS_GEX, drop_first=True)\n",
    "gex_train = lsi_transformer_gex.fit_transform(adata_gex[train_index])\n",
    "with open(os.path.join(trial_dump_folder, 'lsi_GEX_transformer.pickle'), 'wb') as outfile:\n",
    "    pickle.dump(lsi_transformer_gex, outfile)"
   ]
  },
  {
   "cell_type": "code",
   "execution_count": 17,
   "id": "d069d9f4",
   "metadata": {},
   "outputs": [],
   "source": [
    "if first_modality == 'ATAC':\n",
    "    first_modality_val = lsi_transformer_atac.transform(adata_first[val_index])\n",
    "    first_modality_test = lsi_transformer_atac.transform(adata_first_test)\n",
    "else:\n",
    "    first_modality_val = adata_first[val_index].to_df()\n",
    "    first_modality_test = adata_first_test.to_df()\n",
    "gex_val =  lsi_transformer_gex.transform(adata_gex[val_index])\n",
    "gex_test =  lsi_transformer_gex.transform(adata_gex_test)"
   ]
  },
  {
   "cell_type": "code",
   "execution_count": 18,
   "id": "959b967f",
   "metadata": {},
   "outputs": [],
   "source": [
    "dataset_train = ModalityMatchingDataset(first_modality_train, gex_train)\n",
    "dataset_val = ModalityMatchingDataset(first_modality_val, gex_val)\n",
    "dataset_test = ModalityMatchingDataset(first_modality_test, gex_test)"
   ]
  },
  {
   "cell_type": "code",
   "execution_count": 19,
   "id": "90ed9904",
   "metadata": {},
   "outputs": [],
   "source": [
    "dataloader_train = torch.utils.data.DataLoader(dataset_train, config.BATCH_SIZE, shuffle = True)\n",
    "dataloader_val = torch.utils.data.DataLoader(dataset_val, 2048, shuffle = False)\n",
    "dataloader_test = torch.utils.data.DataLoader(dataset_test, 2048, shuffle = False)"
   ]
  },
  {
   "cell_type": "code",
   "execution_count": 20,
   "id": "508675ae-65ff-40c3-9d50-0e8f1e024aca",
   "metadata": {},
   "outputs": [],
   "source": [
    "model = Modality_CLIP(\n",
    "    Encoder=Encoder, \n",
    "    layers_dims = (\n",
    "      config.LAYERS_DIM_FIRST, \n",
    "      config.LAYERS_DIM_GEX\n",
    "    ),\n",
    "    dropout_rates = (\n",
    "      config.DROPOUT_RATES_FIRST, \n",
    "      config.DROPOUT_RATES_GEX\n",
    "    ),\n",
    "    dim_mod1 = 134 if first_modality == 'ADT' else config.N_LSI_COMPONENTS_FIRST,\n",
    "    dim_mod2 = config.N_LSI_COMPONENTS_GEX, \n",
    "    output_dim = config.EMBEDDING_DIM,\n",
    "    T = config.LOG_T,\n",
    "    swap_rate_1 = 0.,\n",
    "    swap_rate_2 = 0.)"
   ]
  },
  {
   "cell_type": "code",
   "execution_count": 21,
   "id": "1627761a-1452-40a5-af76-8172727cc441",
   "metadata": {},
   "outputs": [],
   "source": [
    "optimizer = torch.optim.Adam(model.parameters(), config.LR, weight_decay=config.weight_decay)\n",
    "#scheduler = torch.optim.lr_scheduler.ReduceLROnPlateau(optimizer, factor=0.5, patience=50)\n",
    "\n",
    "loaders = {\n",
    "    \"train\": dataloader_train,\n",
    "    \"valid\": dataloader_val,\n",
    "}"
   ]
  },
  {
   "cell_type": "code",
   "execution_count": 22,
   "id": "64c55efd-e744-456c-9023-f7cde11aab46",
   "metadata": {},
   "outputs": [],
   "source": [
    "if train_from_scratch:\n",
    "    runner = scRNARunner()\n",
    "\n",
    "    # model training\n",
    "    runner.train(\n",
    "        model=model,\n",
    "        optimizer=optimizer,\n",
    "        loaders=loaders,\n",
    "        num_epochs=config.N_EPOCHS,\n",
    "        #scheduler=scheduler,\n",
    "        loggers = {\n",
    "            'tb':catalyst.dl.TensorboardLogger(\n",
    "                logdir=trial_logger_folder\n",
    "            )\n",
    "        },\n",
    "        callbacks=[\n",
    "            #dl.OptimizerCallback(metric_key='loss'),\n",
    "            dl.CheckpointCallback(\n",
    "                logdir = trial_dump_folder,\n",
    "                loader_key='valid',\n",
    "                metric_key='avg_acc',\n",
    "                minimize=False,\n",
    "                #use_runner_logdir=False,\n",
    "                #save_n_best=1\n",
    "            ),\n",
    "            dl.EarlyStoppingCallback(\n",
    "                patience=150,\n",
    "                loader_key='valid',\n",
    "                metric_key='avg_acc',\n",
    "                minimize=False,\n",
    "                min_delta=1e-5),\n",
    "            dl.LoaderMetricCallback(\n",
    "                metric=CustomMetric(),\n",
    "                input_key=['embeddings_first', 'embeddings_second', 'temperature'],\n",
    "                target_key=['embeddings_second']\n",
    "            ),\n",
    "            #dl.SchedulerCallback(loader_key='valid', metric_key='avg_acc'),\n",
    "           # dl.CheckRunCallback(num_batch_steps=1, num_epoch_steps=50)\n",
    "        ],\n",
    "        #valid_metric='loss',\n",
    "        #valid_loader='valid',\n",
    "        verbose=True\n",
    "    )"
   ]
  },
  {
   "cell_type": "markdown",
   "id": "6512586d-c136-408d-9212-f55c05df41ba",
   "metadata": {},
   "source": [
    "### Validation and postprocessing"
   ]
  },
  {
   "cell_type": "code",
   "execution_count": 63,
   "id": "96e33554-4d84-4a0f-90d3-2b3b63eb6f56",
   "metadata": {},
   "outputs": [
    {
     "name": "stdout",
     "output_type": "stream",
     "text": [
      "The autoreload extension is already loaded. To reload it, use:\n",
      "  %reload_ext autoreload\n"
     ]
    }
   ],
   "source": [
    "%load_ext autoreload\n",
    "%autoreload 2"
   ]
  },
  {
   "cell_type": "code",
   "execution_count": 64,
   "id": "ae979d83-f828-4cd3-9904-422be8f59cd4",
   "metadata": {},
   "outputs": [],
   "source": [
    "from src.postprocessing import bipartite_matching, OT_matching"
   ]
  },
  {
   "cell_type": "code",
   "execution_count": 65,
   "id": "696fa416-5cca-4a48-8b78-fcb0b4f35539",
   "metadata": {},
   "outputs": [],
   "source": [
    "if not train_from_scratch:\n",
    "    model.load_state_dict(torch.load('./dumps/ADT2GEX/Feb12_00_53_45/0/model.last.pth'))"
   ]
  },
  {
   "cell_type": "code",
   "execution_count": 66,
   "id": "015e1240-7ccd-42af-af02-9c740c6723c4",
   "metadata": {},
   "outputs": [],
   "source": [
    "model.cuda();"
   ]
  },
  {
   "cell_type": "code",
   "execution_count": 67,
   "id": "2a3765cb-a640-47ce-89c7-345943941636",
   "metadata": {},
   "outputs": [],
   "source": [
    "model.eval()\n",
    "embedding_list_first = []\n",
    "embedding_list_gex = []\n",
    "for batch in dataloader_test:\n",
    "    with torch.no_grad():\n",
    "        features_first = batch['features_first'].cuda()\n",
    "        features_gex = batch['features_second'].cuda()\n",
    "        logits, embeddings_first, embeddings_gex = model(features_first, features_gex)\n",
    "        embedding_list_first.append(embeddings_first)\n",
    "        embedding_list_gex.append(embeddings_gex)"
   ]
  },
  {
   "cell_type": "code",
   "execution_count": 68,
   "id": "da91c4b5-9584-45f6-9ca9-a25db7359fbf",
   "metadata": {},
   "outputs": [],
   "source": [
    "embeddings_first = torch.cat(embedding_list_first)\n",
    "embeddings_gex = torch.cat(embedding_list_gex)"
   ]
  },
  {
   "cell_type": "code",
   "execution_count": 69,
   "id": "edc81161-e937-49fe-844b-59b3d384b47f",
   "metadata": {},
   "outputs": [],
   "source": [
    "test_distances = embeddings_first@embeddings_gex.transpose(1,0)*model.logit_scale.exp()"
   ]
  },
  {
   "cell_type": "code",
   "execution_count": 70,
   "id": "244fa0c8-a692-4df3-935b-a84411acc1cd",
   "metadata": {},
   "outputs": [],
   "source": [
    "tmp = test_distances.clone()"
   ]
  },
  {
   "cell_type": "code",
   "execution_count": 89,
   "id": "999fec99-95d0-44b9-a45d-be5bff3c3436",
   "metadata": {},
   "outputs": [
    {
     "name": "stderr",
     "output_type": "stream",
     "text": [
      "/storage1/nerusskikh/envs/oml/lib/python3.10/site-packages/ot/bregman.py:492: UserWarning: Warning: numerical errors at iteration 6\n",
      "  warnings.warn('Warning: numerical errors at iteration %d' % ii)\n"
     ]
    }
   ],
   "source": [
    "#OT matching returns th matching matrix which sums up to 1 totally, not just by row or column\n",
    "adj_matrix_ot_unnorm = OT_matching(test_distances, entropy_reg=0.003, verbose=False).detach().cpu().numpy()\n",
    "adj_matrix_ot = adj_matrix_ot_unnorm/ adj_matrix_ot_unnorm.sum(1, keepdims=True)"
   ]
  },
  {
   "cell_type": "code",
   "execution_count": 93,
   "id": "a97036a6-74da-40ca-960d-59399a751c7a",
   "metadata": {},
   "outputs": [
    {
     "data": {
      "text/plain": [
       "0.025362922"
      ]
     },
     "execution_count": 93,
     "metadata": {},
     "output_type": "execute_result"
    }
   ],
   "source": [
    "#our metric\n",
    "np.diag(adj_matrix_ot).mean()"
   ]
  },
  {
   "cell_type": "code",
   "execution_count": 43,
   "id": "adfc4a01-68db-42d0-a664-ee6c574497d6",
   "metadata": {},
   "outputs": [],
   "source": [
    "test_distances_numpy = test_distances.detach().cpu().numpy()"
   ]
  },
  {
   "cell_type": "code",
   "execution_count": 40,
   "id": "c91d1b09-3851-4d98-a28f-870a330de8ba",
   "metadata": {},
   "outputs": [],
   "source": [
    "adj_matrix_bipartite = get_bipartite_matching_adjacency_matrix(test_distances_numpy, threshold_quantile=0.990)"
   ]
  },
  {
   "cell_type": "code",
   "execution_count": 94,
   "id": "b9472021-c311-4c6f-aeb4-f36b01474d88",
   "metadata": {},
   "outputs": [
    {
     "data": {
      "text/plain": [
       "<matplotlib.image.AxesImage at 0x7f68f3c5fee0>"
      ]
     },
     "execution_count": 94,
     "metadata": {},
     "output_type": "execute_result"
    },
    {
     "data": {
      "image/png": "[encoded data removed]",
      "text/plain": [
       "<Figure size 640x480 with 1 Axes>"
      ]
     },
     "metadata": {},
     "output_type": "display_data"
    }
   ],
   "source": [
    "plt.imshow(adj_matrix[:100,:100])"
   ]
  },
  {
   "cell_type": "code",
   "execution_count": 98,
   "id": "8cca6a38-64e2-4599-a5ae-56e6b835e358",
   "metadata": {},
   "outputs": [
    {
     "data": {
      "text/plain": [
       "<matplotlib.image.AxesImage at 0x7f68f3f5a4a0>"
      ]
     },
     "execution_count": 98,
     "metadata": {},
     "output_type": "execute_result"
    },
    {
     "data": {
      "image/png": "[encoded data removed]",
      "text/plain": [
       "<Figure size 640x480 with 1 Axes>"
      ]
     },
     "metadata": {},
     "output_type": "display_data"
    }
   ],
   "source": [
    "plt.imshow(adj_matrix_ot[:100,:100]>1e-5)"
   ]
  },
  {
   "cell_type": "code",
   "execution_count": 100,
   "id": "0ba3a671-8d28-4d97-be9e-64af60fbdf04",
   "metadata": {},
   "outputs": [
    {
     "data": {
      "image/png": "[encoded data removed]",
      "text/plain": [
       "<Figure size 640x480 with 1 Axes>"
      ]
     },
     "metadata": {},
     "output_type": "display_data"
    }
   ],
   "source": [
    "plt.hist(np.diag(adj_matrix_ot), bins=100);"
   ]
  },
  {
   "cell_type": "code",
   "execution_count": 101,
   "id": "5084bbb5-0a9a-4306-9229-5b226fc6ce21",
   "metadata": {},
   "outputs": [
    {
     "data": {
      "text/plain": [
       "0.025362922"
      ]
     },
     "execution_count": 101,
     "metadata": {},
     "output_type": "execute_result"
    }
   ],
   "source": [
    "np.diag(adj_matrix_ot).mean()"
   ]
  },
  {
   "cell_type": "markdown",
   "id": "604eec7d-307d-4712-a715-cd858ca14ed1",
   "metadata": {},
   "source": [
    "### Refinement (OML)"
   ]
  },
  {
   "cell_type": "code",
   "execution_count": 105,
   "id": "2f6d99f6-11db-4eed-9531-db435495117f",
   "metadata": {},
   "outputs": [
    {
     "name": "stdout",
     "output_type": "stream",
     "text": [
      "The autoreload extension is already loaded. To reload it, use:\n",
      "  %reload_ext autoreload\n"
     ]
    }
   ],
   "source": [
    "%load_ext autoreload\n",
    "%autoreload 2"
   ]
  },
  {
   "cell_type": "code",
   "execution_count": 106,
   "id": "1d48f62a-e96a-4d42-aad8-671edfafec2d",
   "metadata": {},
   "outputs": [
    {
     "data": {
      "text/html": [
       "<style>.container { width:100% !important; }</style>"
      ],
      "text/plain": [
       "<IPython.core.display.HTML object>"
      ]
     },
     "metadata": {},
     "output_type": "display_data"
    }
   ],
   "source": [
    "from IPython.core.display import HTML\n",
    "from IPython.display import display\n",
    "\n",
    "display(HTML(\"<style>.container { width:100% !important; }</style>\"))\n",
    "\n",
    "\n",
    "from pprint import pprint\n",
    "from tqdm.auto import tqdm\n",
    "\n",
    "import torch\n",
    "from torch.nn import BCEWithLogitsLoss\n",
    "from torch.utils.data import DataLoader\n",
    "\n",
    "from oml.datasets.base import DatasetQueryGallery\n",
    "from oml.metrics.embeddings import EmbeddingMetrics\n",
    "from oml.retrieval.postprocessors.pairwise import PairwiseEmbeddingsPostprocessor\n",
    "from oml.samplers.category_balance import CategoryBalanceSampler\n",
    "from oml.samplers.balance import BalanceSampler\n",
    "from oml import const\n",
    "\n",
    "from src.refinement import BioDatasetWithLabels, BioDatasetQueryGallery, SimpleSiamese, SimpleExtractor, PairsSamplerTwoModalities"
   ]
  },
  {
   "cell_type": "code",
   "execution_count": 107,
   "id": "414499b6-ec65-4e84-87d2-37baa0a40c19",
   "metadata": {},
   "outputs": [],
   "source": [
    "import oml"
   ]
  },
  {
   "cell_type": "code",
   "execution_count": 108,
   "id": "29010711-a283-4c26-ae49-20d307044a80",
   "metadata": {},
   "outputs": [],
   "source": [
    "from sklearn.preprocessing import LabelEncoder"
   ]
  },
  {
   "cell_type": "code",
   "execution_count": 109,
   "id": "c1f70b8c-9bb1-4d7d-b271-18fb2b66ab06",
   "metadata": {},
   "outputs": [],
   "source": [
    "# DATA\n",
    "\n",
    "# I assume that descriptors of both types will have the same size after PCA\n",
    "feat_dim_after_pca = config.N_LSI_COMPONENTS_GEX\n",
    "hospital_encoder = LabelEncoder()\n",
    "categories_ = hospital_encoder.fit_transform(sol_train.obs.batch[train_index])\n",
    "categories = np.concatenate([categories_, categories_])\n",
    "# index          0  1  2  3  4  5  6  7\n",
    "#labels =        [0, 0, 1, 1, 2, 2, 3, 3]\n",
    "labels = list(range(first_modality_train.shape[0]))*2\n",
    "#categories =    [0, 0, 0, 0, 1, 1, 1, 1]  # this is a hospital id\n",
    "categories_ = hospital_encoder.fit_transform(sol_train.obs.batch[train_index])\n",
    "categories = np.concatenate([categories_, categories_])\n",
    "#is_first_type = [1, 0, 1, 0, 1, 0, 1, 0]\n",
    "is_first_type = np.concatenate([np.ones(first_modality_train.shape[0]),\n",
    "                                np.zeros(first_modality_train.shape[0])])\n",
    "#descriptors =   torch.randn((len(labels), feat_dim_after_pca))\n",
    "descriptors = torch.cat([torch.Tensor(first_modality_train.values), torch.Tensor(gex_train.values)]).cuda()\n",
    "\n",
    "labels2category = dict(zip(labels, categories))  # label to hospital id"
   ]
  },
  {
   "cell_type": "code",
   "execution_count": 110,
   "id": "dddaf212-c372-4b83-bd56-6de9477d9abe",
   "metadata": {},
   "outputs": [],
   "source": [
    "from copy import deepcopy"
   ]
  },
  {
   "cell_type": "code",
   "execution_count": 115,
   "id": "831ba708-b877-4bd9-9eb7-4dae4375dfd5",
   "metadata": {},
   "outputs": [],
   "source": [
    "#extractor1 = SimpleExtractor(in_dim=feat_dim_after_pca, out_dim=config.EMBEDDING_DIM)\n",
    "#extractor2 = SimpleExtractor(in_dim=feat_dim_after_pca, out_dim=18)\n",
    "extractor1 = deepcopy(model.encoder_modality1)\n",
    "extractor2 = deepcopy(model.encoder_modality2)\n",
    "\n",
    "siamese = SimpleSiamese(extractor1=extractor1, extractor2=extractor2).train().cuda()\n",
    "optimizer = torch.optim.AdamW(siamese.parameters(), lr=1e-4)\n",
    "miner = PairsSamplerTwoModalities(hard=False)  # it will not remember all the pairs since we overfit only on the hard ones\n",
    "criterion = BCEWithLogitsLoss()\n",
    "\n",
    "train_dataset = BioDatasetWithLabels(labels, categories, is_first_type, descriptors)\n",
    "# batch_sampler = CategoryBalanceSampler(train_dataset.get_labels(), label2category=labels2category, n_labels=2, n_instances=2, n_categories=2)\n",
    "batch_sampler = BalanceSampler(train_dataset.get_labels(), n_labels=4, n_instances=2)\n",
    "train_loader = DataLoader(train_dataset, batch_sampler=batch_sampler)"
   ]
  },
  {
   "cell_type": "code",
   "execution_count": 116,
   "id": "ad5aaec8-381c-485c-bbd2-d0f60ab470ff",
   "metadata": {},
   "outputs": [
    {
     "data": {
      "application/vnd.jupyter.widget-view+json": {
       "model_id": "09673a239c154e8b822cecd91c3e48a2",
       "version_major": 2,
       "version_minor": 0
      },
      "text/plain": [
       "  0%|          | 0/5 [00:00<?, ?it/s]"
      ]
     },
     "metadata": {},
     "output_type": "display_data"
    },
    {
     "data": {
      "application/vnd.jupyter.widget-view+json": {
       "model_id": "",
       "version_major": 2,
       "version_minor": 0
      },
      "text/plain": [
       "  0%|          | 0/15363 [00:37<?, ?it/s]"
      ]
     },
     "metadata": {},
     "output_type": "display_data"
    },
    {
     "name": "stdout",
     "output_type": "stream",
     "text": [
      "0.22143201529979706\n"
     ]
    },
    {
     "data": {
      "application/vnd.jupyter.widget-view+json": {
       "model_id": "",
       "version_major": 2,
       "version_minor": 0
      },
      "text/plain": [
       "  0%|          | 0/15363 [00:39<?, ?it/s]"
      ]
     },
     "metadata": {},
     "output_type": "display_data"
    },
    {
     "name": "stdout",
     "output_type": "stream",
     "text": [
      "0.2120780348777771\n"
     ]
    },
    {
     "data": {
      "application/vnd.jupyter.widget-view+json": {
       "model_id": "",
       "version_major": 2,
       "version_minor": 0
      },
      "text/plain": [
       "  0%|          | 0/15363 [00:37<?, ?it/s]"
      ]
     },
     "metadata": {},
     "output_type": "display_data"
    },
    {
     "name": "stdout",
     "output_type": "stream",
     "text": [
      "0.06477153301239014\n"
     ]
    },
    {
     "data": {
      "application/vnd.jupyter.widget-view+json": {
       "model_id": "",
       "version_major": 2,
       "version_minor": 0
      },
      "text/plain": [
       "  0%|          | 0/15363 [00:38<?, ?it/s]"
      ]
     },
     "metadata": {},
     "output_type": "display_data"
    },
    {
     "name": "stdout",
     "output_type": "stream",
     "text": [
      "0.044805463403463364\n"
     ]
    },
    {
     "data": {
      "application/vnd.jupyter.widget-view+json": {
       "model_id": "",
       "version_major": 2,
       "version_minor": 0
      },
      "text/plain": [
       "  0%|          | 0/15363 [00:38<?, ?it/s]"
      ]
     },
     "metadata": {},
     "output_type": "display_data"
    },
    {
     "name": "stdout",
     "output_type": "stream",
     "text": [
      "0.06961286067962646\n"
     ]
    }
   ],
   "source": [
    "#n_epochs = 50000\n",
    "n_epochs = 5\n",
    "\n",
    "for _ in tqdm(range(n_epochs), position=0):\n",
    "    for batch in tqdm(train_loader, leave=False, position=1):\n",
    "        features_a = batch[const.INPUT_TENSORS_KEY][batch[\"is_first_type\"]]\n",
    "        features_b = batch[const.INPUT_TENSORS_KEY][~batch[\"is_first_type\"]]\n",
    "        labels_a = batch[const.LABELS_KEY][batch[\"is_first_type\"]]\n",
    "        labels_b = batch[const.LABELS_KEY][~batch[\"is_first_type\"]]\n",
    "        \n",
    "        ids1, ids2, is_negative_pair = miner.sample(features_a, features_b, labels_a, labels_b)\n",
    "        probs = siamese(x1=features_a[ids1], x2=features_b[ids2])  # can think about it as distances\n",
    "        loss = criterion(probs, is_negative_pair.float().cuda())\n",
    "\n",
    "        loss.backward()\n",
    "        optimizer.step()\n",
    "        optimizer.zero_grad()\n",
    "\n",
    "    print(loss.item())"
   ]
  },
  {
   "cell_type": "code",
   "execution_count": null,
   "id": "8c5ca610-1384-46b5-9c3e-db69ea274261",
   "metadata": {},
   "outputs": [],
   "source": [
    "#torch.save(siamese.state_dict, 'siamese.pickle')"
   ]
  },
  {
   "cell_type": "markdown",
   "id": "2bad4553-071d-496a-9f1a-36929d8b7f6e",
   "metadata": {},
   "source": [
    "### Custom eval"
   ]
  },
  {
   "cell_type": "code",
   "execution_count": 117,
   "id": "b0919605-bc3b-4143-8a90-0eb7423d955d",
   "metadata": {},
   "outputs": [],
   "source": [
    "siamese.eval();"
   ]
  },
  {
   "cell_type": "code",
   "execution_count": 118,
   "id": "88536aed-5e7f-491f-82d0-ab142874c6b0",
   "metadata": {},
   "outputs": [],
   "source": [
    "postproc_matrix  = torch.zeros(test_distances_numpy.shape)"
   ]
  },
  {
   "cell_type": "code",
   "execution_count": 120,
   "id": "20358cb3-3672-42e1-ae17-81fe4f071107",
   "metadata": {},
   "outputs": [],
   "source": [
    "#looking for promising indices in the matching\n",
    "ind_first, ind_gex = np.where((adj_matrix_ot>1e-4))"
   ]
  },
  {
   "cell_type": "code",
   "execution_count": 121,
   "id": "c3729a24-1384-4cfa-8554-e3ab9e5d570c",
   "metadata": {},
   "outputs": [],
   "source": [
    "feat_first = torch.Tensor(first_modality_test.values).cuda()\n",
    "feat_gex = torch.Tensor(gex_test.values).cuda()"
   ]
  },
  {
   "cell_type": "code",
   "execution_count": 122,
   "id": "1818194c-dfc0-4a76-93e9-3e074fd30a53",
   "metadata": {},
   "outputs": [],
   "source": [
    "index_dataset = torch.utils.data.TensorDataset(torch.LongTensor(ind_first), torch.LongTensor(ind_gex))"
   ]
  },
  {
   "cell_type": "code",
   "execution_count": 123,
   "id": "9ff06fbc-ed72-4313-9455-bb0e5848ef26",
   "metadata": {},
   "outputs": [
    {
     "data": {
      "application/vnd.jupyter.widget-view+json": {
       "model_id": "81d2d529ee614e089a064e9c554d1fb0",
       "version_major": 2,
       "version_minor": 0
      },
      "text/plain": [
       "  0%|          | 0/462 [00:00<?, ?it/s]"
      ]
     },
     "metadata": {},
     "output_type": "display_data"
    }
   ],
   "source": [
    "for ind1, ind2 in tqdm(torch.utils.data.DataLoader(index_dataset, batch_size=2048)):\n",
    "    x1 = feat_first[ind1]\n",
    "    x2 = feat_gex[ind2]\n",
    "    ans = torch.sigmoid(siamese(x1, x2)).detach().cpu()\n",
    "    postproc_matrix[ind1, ind2] = ans"
   ]
  },
  {
   "cell_type": "code",
   "execution_count": 124,
   "id": "c01fcf59-1f97-4a24-8988-c1de58a81a5e",
   "metadata": {},
   "outputs": [],
   "source": [
    "postproc_matrix = postproc_matrix.cpu().numpy()"
   ]
  },
  {
   "cell_type": "code",
   "execution_count": 125,
   "id": "e5edb6db-da26-4938-99bd-ccf23ccabccc",
   "metadata": {},
   "outputs": [
    {
     "data": {
      "text/plain": [
       "array([3.302113 , 1.5618122, 8.769382 , ..., 0.9907185, 0.4494646,\n",
       "       3.673589 ], dtype=float32)"
      ]
     },
     "execution_count": 125,
     "metadata": {},
     "output_type": "execute_result"
    }
   ],
   "source": [
    "postproc_matrix.sum(1)"
   ]
  },
  {
   "cell_type": "code",
   "execution_count": 126,
   "id": "95c31353-a897-4e9a-ad15-6671bca48055",
   "metadata": {},
   "outputs": [],
   "source": [
    "postproc_matrix /= (postproc_matrix.sum(1, keepdims=True)+1e-12)"
   ]
  },
  {
   "cell_type": "code",
   "execution_count": 127,
   "id": "2e02882a-d6b2-482d-834d-e2f30233366f",
   "metadata": {},
   "outputs": [
    {
     "data": {
      "text/plain": [
       "0.011084561263772733"
      ]
     },
     "execution_count": 127,
     "metadata": {},
     "output_type": "execute_result"
    }
   ],
   "source": [
    "np.diag(postproc_matrix == postproc_matrix.max(1,keepdims=True)).mean()"
   ]
  },
  {
   "cell_type": "code",
   "execution_count": 128,
   "id": "004e95b9-15ac-4e2e-bc43-f9008a7b34fc",
   "metadata": {},
   "outputs": [
    {
     "data": {
      "text/plain": [
       "0.025362922"
      ]
     },
     "execution_count": 128,
     "metadata": {},
     "output_type": "execute_result"
    }
   ],
   "source": [
    "np.diag(adj_matrix_ot).mean()"
   ]
  },
  {
   "cell_type": "code",
   "execution_count": 129,
   "id": "5dffe40f-da63-4a55-9ef7-7c61f450da94",
   "metadata": {},
   "outputs": [
    {
     "data": {
      "text/plain": [
       "0.0122679975"
      ]
     },
     "execution_count": 129,
     "metadata": {},
     "output_type": "execute_result"
    }
   ],
   "source": [
    "# the metric actually decreases a little bit\n",
    "np.diag(postproc_matrix).mean()"
   ]
  }
 ],
 "metadata": {
  "kernelspec": {
   "display_name": "oml",
   "language": "python",
   "name": "oml"
  },
  "language_info": {
   "codemirror_mode": {
    "name": "ipython",
    "version": 3
   },
   "file_extension": ".py",
   "mimetype": "text/x-python",
   "name": "python",
   "nbconvert_exporter": "python",
   "pygments_lexer": "ipython3",
   "version": "3.10.9"
  }
 },
 "nbformat": 4,
 "nbformat_minor": 5
}
